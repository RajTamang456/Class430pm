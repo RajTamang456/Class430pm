{
 "cells": [
  {
   "cell_type": "code",
   "execution_count": 1,
   "metadata": {},
   "outputs": [
    {
     "name": "stdout",
     "output_type": "stream",
     "text": [
      "1\n",
      "2\n"
     ]
    }
   ],
   "source": [
    "a  = 1\n",
    "b =  2\n",
    "print(a)\n",
    "print(b)"
   ]
  },
  {
   "cell_type": "code",
   "execution_count": 2,
   "metadata": {},
   "outputs": [
    {
     "name": "stdout",
     "output_type": "stream",
     "text": [
      "3\n"
     ]
    }
   ],
   "source": [
    "a = 1\n",
    "b = 2\n",
    "c = a+b\n",
    "print(c)"
   ]
  },
  {
   "cell_type": "code",
   "execution_count": 3,
   "metadata": {},
   "outputs": [
    {
     "name": "stdout",
     "output_type": "stream",
     "text": [
      "hello\n"
     ]
    }
   ],
   "source": [
    "a = ('hello')\n",
    "print(a)"
   ]
  },
  {
   "cell_type": "code",
   "execution_count": 6,
   "metadata": {},
   "outputs": [
    {
     "name": "stdout",
     "output_type": "stream",
     "text": [
      "Namaste \n",
      "Hello\n"
     ]
    }
   ],
   "source": [
    "a = (\"Namaste \\n\")\n",
    "b = (\"Hello\")\n",
    "print(a+b)"
   ]
  },
  {
   "cell_type": "code",
   "execution_count": 7,
   "metadata": {},
   "outputs": [
    {
     "name": "stdout",
     "output_type": "stream",
     "text": [
      "6\n"
     ]
    }
   ],
   "source": [
    "a = 2\n",
    "b = 3\n",
    "print(a*b)"
   ]
  },
  {
   "cell_type": "code",
   "execution_count": 9,
   "metadata": {},
   "outputs": [
    {
     "name": "stdout",
     "output_type": "stream",
     "text": [
      "8\n"
     ]
    }
   ],
   "source": [
    "a = 2\n",
    "b = 3\n",
    "print(a**b)"
   ]
  },
  {
   "cell_type": "code",
   "execution_count": 1,
   "metadata": {},
   "outputs": [
    {
     "name": "stdout",
     "output_type": "stream",
     "text": [
      "8.0\n"
     ]
    }
   ],
   "source": [
    "a = 16\n",
    "print(a**1/2)"
   ]
  },
  {
   "cell_type": "code",
   "execution_count": 2,
   "metadata": {},
   "outputs": [],
   "source": [
    "# Conditional statement\n",
    "# if\n",
    "# efif\n",
    "# else\n",
    "        \n"
   ]
  },
  {
   "cell_type": "code",
   "execution_count": 3,
   "metadata": {},
   "outputs": [
    {
     "data": {
      "text/plain": [
       "False"
      ]
     },
     "execution_count": 3,
     "metadata": {},
     "output_type": "execute_result"
    }
   ],
   "source": [
    "a = 10\n",
    "b = 20\n",
    "a>b"
   ]
  },
  {
   "cell_type": "code",
   "execution_count": 4,
   "metadata": {},
   "outputs": [
    {
     "name": "stdout",
     "output_type": "stream",
     "text": [
      "hello world\n"
     ]
    }
   ],
   "source": [
    "a = 10\n",
    "b = 20\n",
    "if a>b:\n",
    "    print(\"a is greater\")\n",
    "print(\"hello world\")\n",
    "    "
   ]
  },
  {
   "cell_type": "code",
   "execution_count": null,
   "metadata": {},
   "outputs": [],
   "source": [
    "#<> <= >= == !=\n",
    "@ and or & |\n"
   ]
  },
  {
   "cell_type": "code",
   "execution_count": 5,
   "metadata": {},
   "outputs": [
    {
     "name": "stdout",
     "output_type": "stream",
     "text": [
      "a is greater\n",
      "hello world\n"
     ]
    }
   ],
   "source": [
    "a = 30\n",
    "b = 20\n",
    "if a>b:\n",
    "    print(\"a is greater\")\n",
    "    print(\"hello world\")\n",
    "    "
   ]
  },
  {
   "cell_type": "code",
   "execution_count": 7,
   "metadata": {},
   "outputs": [
    {
     "name": "stdout",
     "output_type": "stream",
     "text": [
      "b is greater\n"
     ]
    }
   ],
   "source": [
    "a = 10\n",
    "b = 20\n",
    "if a>b:\n",
    "    print(\"a is greater\")\n",
    "else:\n",
    "    print(\"b is greater\")\n",
    "    "
   ]
  },
  {
   "cell_type": "code",
   "execution_count": 8,
   "metadata": {},
   "outputs": [
    {
     "name": "stdout",
     "output_type": "stream",
     "text": [
      "Enter a = 10\n",
      "Enter b = 20\n",
      "b is greater 20\n"
     ]
    }
   ],
   "source": [
    "a = int(input(\"Enter a = \"))\n",
    "b = int(input(\"Enter b = \"))\n",
    "if a>b:\n",
    "    print(\"a is greater\",a)\n",
    "elif a<b:\n",
    "    print(\"b is greater\",b)\n",
    "else:print(\"both are equal\")\n",
    "    \n",
    "    \n"
   ]
  },
  {
   "cell_type": "code",
   "execution_count": 1,
   "metadata": {},
   "outputs": [
    {
     "name": "stdout",
     "output_type": "stream",
     "text": [
      "Enter a = 12\n",
      "Enter b = 23\n",
      "Enter c = 20\n",
      "b is greater 23\n"
     ]
    }
   ],
   "source": [
    "a = int(input(\"Enter a = \"))\n",
    "b = int(input(\"Enter b = \"))\n",
    "c = int(input(\"Enter c = \"))\n",
    "if a>b and a>c:\n",
    "    print(\"a is greater\",a)\n",
    "elif a<b and b>c:\n",
    "    print(\"b is greater\",b)\n",
    "elif c>a and c>b:\n",
    "    print(\"c is greater\",c)\n",
    "else:\n",
    "    print(\"all are equal\")\n",
    "    \n",
    "    \n"
   ]
  },
  {
   "cell_type": "code",
   "execution_count": 1,
   "metadata": {},
   "outputs": [
    {
     "name": "stdout",
     "output_type": "stream",
     "text": [
      "5\n"
     ]
    }
   ],
   "source": [
    "a = 10\n",
    "b = 5\n",
    "c = (a-b)\n",
    "print(c)\n"
   ]
  },
  {
   "cell_type": "code",
   "execution_count": 3,
   "metadata": {},
   "outputs": [
    {
     "name": "stdout",
     "output_type": "stream",
     "text": [
      "Enter a = 7\n",
      "This is odd no and less than 10\n"
     ]
    }
   ],
   "source": [
    "a = int(input(\"Enter a = \"))\n",
    "if a%2 == 0 and a>10:\n",
    "    print(\"This is even no and greater than 10\")\n",
    "elif a%2 != 0 and a>10:\n",
    "    print(\"This is odd no and greater than 10\")\n",
    "elif a%2 == 0 and a<10:\n",
    "    print(\"This is even no and less than 10\")\n",
    "elif a%2 != 0 and a<10:\n",
    "    print(\"This is odd no and less than 10\")\n",
    "else:\n",
    "    print(\"Even no and equal to 10\")\n",
    "    "
   ]
  },
  {
   "cell_type": "code",
   "execution_count": 7,
   "metadata": {},
   "outputs": [
    {
     "name": "stdout",
     "output_type": "stream",
     "text": [
      "Enter a = 1\n",
      "Enter b = 5\n",
      "Enter + - * /*\n",
      "5\n"
     ]
    }
   ],
   "source": [
    "a = int(input(\"Enter a = \"))\n",
    "b = int(input(\"Enter b = \"))\n",
    "O = input(\"Enter + - * /\")\n",
    "if O == '+':\n",
    "    print(a+b)\n",
    "elif O == '-':\n",
    "    print(a-b)\n",
    "elif O == '*':\n",
    "    print(a*b)\n",
    "elif O == '/':\n",
    "    print(a/b)\n",
    "else:\n",
    "    print(\"Invalid Operator\")\n",
    "    "
   ]
  },
  {
   "cell_type": "code",
   "execution_count": null,
   "metadata": {},
   "outputs": [],
   "source": [
    "@nested  \n",
    "# if <condition>\n",
    "    if<condition>\n",
    "    else:\n",
    "        print(condition)"
   ]
  },
  {
   "cell_type": "code",
   "execution_count": 15,
   "metadata": {},
   "outputs": [
    {
     "name": "stdout",
     "output_type": "stream",
     "text": [
      "Enter a = 2\n",
      "Enter b = 0\n",
      "Enter + - * //\n",
      "the value of b can't be zero\n"
     ]
    }
   ],
   "source": [
    "a = int(input(\"Enter a = \"))\n",
    "b = int(input(\"Enter b = \"))\n",
    "O = input(\"Enter + - * /\")\n",
    "if O == '+':\n",
    "    print(a+b)\n",
    "elif O == '-':\n",
    "    print(a-b)\n",
    "elif O == '*':\n",
    "    print(a*b)\n",
    "elif O == '/':\n",
    "    if b != 0:\n",
    "        print(a/b)\n",
    "    else:\n",
    "        print(\"the value of b can't be zero\")\n",
    "else:\n",
    "    print(\"Invalid Operator\")\n",
    "    "
   ]
  },
  {
   "cell_type": "code",
   "execution_count": 6,
   "metadata": {},
   "outputs": [
    {
     "name": "stdout",
     "output_type": "stream",
     "text": [
      "Enter age = 8\n",
      "no you cant drive\n"
     ]
    }
   ],
   "source": [
    "age = int(input(\"Enter age = \"))\n",
    "if age>18:\n",
    "    print(\"yes you can drive\")\n",
    "elif age == 18:\n",
    "    print(\"we cant decide so please attain\")\n",
    "else:\n",
    "    print(\"no you cant drive\")\n",
    "    "
   ]
  },
  {
   "cell_type": "code",
   "execution_count": 6,
   "metadata": {},
   "outputs": [
    {
     "name": "stdout",
     "output_type": "stream",
     "text": [
      "Enter amt = 700\n",
      "i am ready\n"
     ]
    }
   ],
   "source": [
    "amt = int(input(\"Enter amt = \"))\n",
    "if amt>1000:\n",
    "    print(\"i cant affort\")\n",
    "elif amt == 1000:\n",
    "    print(\"i will see\")\n",
    "else:\n",
    "    print(\"i am ready\")\n",
    "    "
   ]
  },
  {
   "cell_type": "code",
   "execution_count": 5,
   "metadata": {},
   "outputs": [
    {
     "name": "stdout",
     "output_type": "stream",
     "text": [
      "Enter a number: 7\n",
      "positive\n"
     ]
    }
   ],
   "source": [
    "num = int(input(\"Enter a number: \"))\n",
    "if num >= 0:\n",
    "    print(\"positive\")\n",
    "elif num == 0:\n",
    "    print(\"zero\")\n",
    "else:\n",
    "    print(\"negative\")\n",
    "    \n",
    "    \n",
    "    "
   ]
  },
  {
   "cell_type": "code",
   "execution_count": 9,
   "metadata": {},
   "outputs": [
    {
     "name": "stdout",
     "output_type": "stream",
     "text": [
      "Enter a number = 4.5\n",
      "positive\n"
     ]
    }
   ],
   "source": [
    "num = float(input(\"Enter a number = \"))\n",
    "if num >= 0:\n",
    "    print(\"positive\")\n",
    "elif num == 0:\n",
    "    print(\"zero\")\n",
    "else:\n",
    "    print(\"negative\")\n",
    "    "
   ]
  },
  {
   "cell_type": "code",
   "execution_count": 12,
   "metadata": {},
   "outputs": [
    {
     "name": "stdout",
     "output_type": "stream",
     "text": [
      "Enter a = 50\n",
      "This is even no and greater than 10\n"
     ]
    }
   ],
   "source": [
    "a = int(input(\"Enter a = \"))\n",
    "if a%2 == 0 and a>10:\n",
    "    print(\"This is even no and greater than 10\")\n",
    "elif a%2 != 0 and a>10:\n",
    "    print(\"This is odd no and greater than 10\")\n",
    "elif a%2 == 0 and a<10:\n",
    "    print(\"This is even no and less than 10\")\n",
    "elif a%2 != 0 and a<10:\n",
    "    print(\"this is odd no and less than 10\")\n",
    "else:\n",
    "    print(\"even no and equal to 10\")\n",
    "    "
   ]
  },
  {
   "cell_type": "code",
   "execution_count": 7,
   "metadata": {},
   "outputs": [
    {
     "ename": "SyntaxError",
     "evalue": "invalid syntax (<ipython-input-7-361d7bb95f86>, line 4)",
     "output_type": "error",
     "traceback": [
      "\u001b[1;36m  File \u001b[1;32m\"<ipython-input-7-361d7bb95f86>\"\u001b[1;36m, line \u001b[1;32m4\u001b[0m\n\u001b[1;33m    if o = (+):\u001b[0m\n\u001b[1;37m         ^\u001b[0m\n\u001b[1;31mSyntaxError\u001b[0m\u001b[1;31m:\u001b[0m invalid syntax\n"
     ]
    }
   ],
   "source": [
    "a = int(input(\"Enter a = \"))\n",
    "b = int(input(\"Enter b = \"))\n",
    "o = input(\"Enter operator = \")\n",
    "if o = (+):\n",
    "    print(a+b)\n",
    "elif o = (-):\n",
    "    print(a-b)\n",
    "elif o = (*)\n",
    "    print(a*b)\n",
    "elif o = (\\)\n",
    "    print(a\\b)\n",
    "else:\n",
    "    print(\"invalid operator\")\n",
    "    \n",
    "        "
   ]
  },
  {
   "cell_type": "code",
   "execution_count": 2,
   "metadata": {},
   "outputs": [
    {
     "name": "stdout",
     "output_type": "stream",
     "text": [
      "What is your name = Raj\n",
      "Hello Raj what's up\n"
     ]
    }
   ],
   "source": [
    "name = input(\"What is your name = \")\n",
    "if name == 'Raj':\n",
    "    print(\"Hello Raj what's up\")\n",
    "elif name == 'Unise':\n",
    "    print(\"Hello Unise how are you doing\")\n",
    "elif name == 'Sumyum':\n",
    "    print(\"Hello Sumyum how about you\")\n",
    "elif name == 'Eden':\n",
    "    print(\"Hello Eden morning bro\")\n",
    "else:\n",
    "    print(\"I don't know you who are you\")\n",
    "    \n",
    "    \n",
    "    "
   ]
  },
  {
   "cell_type": "code",
   "execution_count": 14,
   "metadata": {},
   "outputs": [
    {
     "name": "stdout",
     "output_type": "stream",
     "text": [
      "Enter x ==2\n",
      "i\n",
      "hate\n",
      "you\n"
     ]
    }
   ],
   "source": [
    "x =  int(input(\"Enter x ==\"))\n",
    "if x == 1:\n",
    "    print('i'); print('Love'); print('you');\n",
    "elif x == 2:\n",
    "    print('i'); print('hate'); print('you');\n",
    "else:\n",
    "    print(\"who the fuck are you\")\n",
    "    "
   ]
  },
  {
   "cell_type": "code",
   "execution_count": 18,
   "metadata": {},
   "outputs": [
    {
     "name": "stdout",
     "output_type": "stream",
     "text": [
      "Enter x ==2\n",
      "i hate you\n"
     ]
    }
   ],
   "source": [
    "x =  int(input(\"Enter x ==\"))\n",
    "if x == 1:\n",
    "    print('i','Love','you')\n",
    "elif x == 2:\n",
    "    print('i','hate','you')\n",
    "else:\n",
    "    print(\"who the fuck are you\")\n",
    "    "
   ]
  },
  {
   "cell_type": "markdown",
   "metadata": {},
   "source": [
    "i = 1\n",
    "i = i=1\n",
    "if i<10:\n",
    "    print(i)"
   ]
  },
  {
   "cell_type": "code",
   "execution_count": 35,
   "metadata": {},
   "outputs": [
    {
     "name": "stdout",
     "output_type": "stream",
     "text": [
      "Enter the no of people = 3\n",
      "Enter the name = jyj\n"
     ]
    },
    {
     "ename": "ValueError",
     "evalue": "invalid literal for int() with base 10: 'jyj'",
     "output_type": "error",
     "traceback": [
      "\u001b[1;31m---------------------------------------------------------------------------\u001b[0m",
      "\u001b[1;31mValueError\u001b[0m                                Traceback (most recent call last)",
      "\u001b[1;32m<ipython-input-35-b32d642057cb>\u001b[0m in \u001b[0;36m<module>\u001b[1;34m\u001b[0m\n\u001b[0;32m      3\u001b[0m \u001b[0mn\u001b[0m \u001b[1;33m=\u001b[0m \u001b[0mint\u001b[0m\u001b[1;33m(\u001b[0m\u001b[0minput\u001b[0m\u001b[1;33m(\u001b[0m\u001b[1;34m\"Enter the no of people = \"\u001b[0m\u001b[1;33m)\u001b[0m\u001b[1;33m)\u001b[0m\u001b[1;33m\u001b[0m\u001b[1;33m\u001b[0m\u001b[0m\n\u001b[0;32m      4\u001b[0m \u001b[1;32mwhile\u001b[0m \u001b[0ma\u001b[0m\u001b[1;33m<=\u001b[0m\u001b[0mn\u001b[0m\u001b[1;33m:\u001b[0m\u001b[1;33m\u001b[0m\u001b[1;33m\u001b[0m\u001b[0m\n\u001b[1;32m----> 5\u001b[1;33m     \u001b[0mname\u001b[0m \u001b[1;33m=\u001b[0m \u001b[0mint\u001b[0m\u001b[1;33m(\u001b[0m\u001b[0minput\u001b[0m\u001b[1;33m(\u001b[0m\u001b[1;34m\"Enter the name = \"\u001b[0m\u001b[1;33m)\u001b[0m\u001b[1;33m)\u001b[0m\u001b[1;33m\u001b[0m\u001b[1;33m\u001b[0m\u001b[0m\n\u001b[0m\u001b[0;32m      6\u001b[0m \u001b[0ms\u001b[0m \u001b[1;33m=\u001b[0m \u001b[0ms\u001b[0m \u001b[1;33m+\u001b[0m \u001b[1;34m\"\"\u001b[0m \u001b[1;33m+\u001b[0m \u001b[0mname\u001b[0m\u001b[1;33m\u001b[0m\u001b[1;33m\u001b[0m\u001b[0m\n\u001b[0;32m      7\u001b[0m \u001b[0ma\u001b[0m \u001b[1;33m=\u001b[0m \u001b[0ma\u001b[0m\u001b[1;33m+\u001b[0m\u001b[1;36m1\u001b[0m\u001b[1;33m\u001b[0m\u001b[1;33m\u001b[0m\u001b[0m\n",
      "\u001b[1;31mValueError\u001b[0m: invalid literal for int() with base 10: 'jyj'"
     ]
    }
   ],
   "source": [
    "a = 1\n",
    "s = \"\"\n",
    "n = int(input(\"Enter the no of people = \"))\n",
    "while a<=n:\n",
    "    name = int(input(\"Enter the name = \"))\n",
    "s = s + \"\" + name\n",
    "a = a+1\n",
    "print(s)\n"
   ]
  },
  {
   "cell_type": "code",
   "execution_count": 6,
   "metadata": {},
   "outputs": [
    {
     "name": "stdout",
     "output_type": "stream",
     "text": [
      "a is not equal to b\n"
     ]
    }
   ],
   "source": [
    "a = 10\n",
    "b = 20\n",
    "if a == b:\n",
    "    print(\"a is equal to b\")\n",
    "else:\n",
    "    print(\"a is not equal b\")"
   ]
  },
  {
   "cell_type": "code",
   "execution_count": 11,
   "metadata": {},
   "outputs": [
    {
     "name": "stdout",
     "output_type": "stream",
     "text": [
      "no\n"
     ]
    }
   ],
   "source": [
    "s = (1,2,3,4,5)\n",
    "if 5 == s:\n",
    "    print(\"yes it is true\")\n",
    "else:\n",
    "    print(\"no\")"
   ]
  },
  {
   "cell_type": "code",
   "execution_count": 12,
   "metadata": {},
   "outputs": [
    {
     "name": "stdout",
     "output_type": "stream",
     "text": [
      "Enter a = 10\n",
      "Enter b = 5\n",
      "a is not equal b\n"
     ]
    }
   ],
   "source": [
    "a = int(input(\"Enter a = \"))\n",
    "b = int(input(\"Enter b = \"))\n",
    "if (a<b):\n",
    "    print(\"a is equal to b\")\n",
    "else:\n",
    "    print(\"a is not equal b\")"
   ]
  },
  {
   "cell_type": "code",
   "execution_count": 17,
   "metadata": {},
   "outputs": [
    {
     "name": "stdout",
     "output_type": "stream",
     "text": [
      "Enter a = 100\n",
      "float\n"
     ]
    }
   ],
   "source": [
    "s = 100\n",
    "a = int(input(\"Enter a = \"))\n",
    "if (a<s):\n",
    "    print(\"a is smaller than s\")\n",
    "elif (a>s):\n",
    "    print(\"a is greater than s\")\n",
    "else:\n",
    "    print(\"float\")\n"
   ]
  },
  {
   "cell_type": "code",
   "execution_count": 30,
   "metadata": {},
   "outputs": [
    {
     "name": "stdout",
     "output_type": "stream",
     "text": [
      "Enter length = 3\n",
      "Enter breath = 4\n",
      "no it is not\n"
     ]
    }
   ],
   "source": [
    "length = int(input(\"Enter length = \"))\n",
    "breath = int(input(\"Enter breath = \")) \n",
    "if length == breath:\n",
    "    print(\"yes it is square\")\n",
    "else:\n",
    "    print(\"no it is not\")\n"
   ]
  },
  {
   "cell_type": "code",
   "execution_count": 41,
   "metadata": {},
   "outputs": [
    {
     "name": "stdout",
     "output_type": "stream",
     "text": [
      "19999\n",
      "6\n",
      "Bonus is\n"
     ]
    }
   ],
   "source": [
    "salary = input()\n",
    "yos = input()\n",
    "if yos>salary:\n",
    "    print ('Bonus is')\n",
    "else:\n",
    "    print(\"no bonus\")\n",
    "p"
   ]
  },
  {
   "cell_type": "markdown",
   "metadata": {},
   "source": []
  },
  {
   "cell_type": "code",
   "execution_count": 1,
   "metadata": {},
   "outputs": [
    {
     "name": "stdout",
     "output_type": "stream",
     "text": [
      "59\n",
      "20\n",
      "sorry u r not allowed. please from nest time attend more class\n"
     ]
    }
   ],
   "source": [
    " #75% attendence only allowed\n",
    "noh = int(input()) \n",
    "noa = int(input())\n",
    "Ap = (noa/(noh))*100 \n",
    "if Ap >= 75:\n",
    "    print(\"you are allowed to enter class\")\n",
    "else:\n",
    "    print(\"sorry u r not allowed. please from nest time attend more class\")"
   ]
  },
  {
   "cell_type": "code",
   "execution_count": 10,
   "metadata": {},
   "outputs": [
    {
     "name": "stdout",
     "output_type": "stream",
     "text": [
      "Enter x = 3\n",
      "i m not intereted in game\n",
      "best of 2020\n"
     ]
    }
   ],
   "source": [
    "x = int(input(\"Enter x = \"))\n",
    "if x == 1:\n",
    "    print(\"pubg\", \"freefire\", \"call of duty\")\n",
    "elif x == 2:\n",
    "    print(\"tiktok\", \"music\") \n",
    "else:\n",
    "    print(\"i m not intereted in game\")\n",
    "print(\"best of 2020\")\n"
   ]
  },
  {
   "cell_type": "code",
   "execution_count": 18,
   "metadata": {},
   "outputs": [
    {
     "name": "stdout",
     "output_type": "stream",
     "text": [
      "its float no\n"
     ]
    }
   ],
   "source": [
    "a = (\"list of even no less than 10\")\n",
    "b = (\"list of odd no less than 10\")\n",
    "x = 5\n",
    "if x == a and x<a:    \n",
    "    print(\"it is even no and less than 10\")\n",
    "elif x == b and x<b:    \n",
    "    print(\"it is odd no and less than 10\")\n",
    "else:\n",
    "    print(\"its float no\")"
   ]
  },
  {
   "cell_type": "code",
   "execution_count": 4,
   "metadata": {},
   "outputs": [
    {
     "name": "stdout",
     "output_type": "stream",
     "text": [
      "puku\n",
      "52\n",
      "1.30\n",
      "BMI = \n",
      "30.769230769230766\n",
      "puku\n",
      "is overweight\n"
     ]
    }
   ],
   "source": [
    "name = input()\n",
    "weight_kg = int(input())\n",
    "height_m = float(input())\n",
    "BMI = weight_kg / (height_m ** 2)\n",
    "print(\"BMI = \")\n",
    "print(BMI)\n",
    "if BMI<25:\n",
    "    print(name)\n",
    "    print(\"is not overweight\")\n",
    "else:\n",
    "    print(name)\n",
    "    print(\"is overweight\")\n"
   ]
  },
  {
   "cell_type": "code",
   "execution_count": 11,
   "metadata": {},
   "outputs": [
    {
     "name": "stdout",
     "output_type": "stream",
     "text": [
      "Enter ef = 500\n",
      "not allowed\n"
     ]
    }
   ],
   "source": [
    "ef = int(input(\"Enter ef = \"))\n",
    "if ef >= 1000:\n",
    "    print(\"allowed\")\n",
    "else:\n",
    "    print(\"not allowed\")\n"
   ]
  },
  {
   "cell_type": "code",
   "execution_count": 14,
   "metadata": {},
   "outputs": [
    {
     "name": "stdout",
     "output_type": "stream",
     "text": [
      "Enter name = raj\n",
      "Enter physics marks = 78\n",
      "Enter chemistry marks = 80\n",
      "Enter maths marks = 90\n",
      "248\n",
      "82.66666666666667\n",
      "grade:A\n",
      "Hello raj Your total is 248 and grade is grade\n"
     ]
    }
   ],
   "source": [
    "name = input(\"Enter name = \")\n",
    "physics = int(input(\"Enter physics marks = \"))\n",
    "chemistry = int(input(\"Enter chemistry marks = \"))\n",
    "maths = int(input(\"Enter maths marks = \"))\n",
    "grade = ('A','B',\"C\",\"F\")\n",
    "total = physics+chemistry+maths\n",
    "print(total)\n",
    "per = total/3\n",
    "print(per)\n",
    "if per >= 80:\n",
    "    print(\"grade:A\")\n",
    "elif per >= 60:\n",
    "    print(\"grade:B\")\n",
    "elif per >= 50:\n",
    "    print(\"grade:C\")\n",
    "else:\n",
    "    print(\"grade:F\")\n",
    "data = (\"Hello\"+\" \"+name+\" \"+\"Your total is\"+\" \"+str(total)+\" \"+\"and\"+\" \"+\"grade is\"+\" \"+(\"))\n",
    "print(data)"
   ]
  },
  {
   "cell_type": "code",
   "execution_count": 2,
   "metadata": {},
   "outputs": [
    {
     "name": "stdout",
     "output_type": "stream",
     "text": [
      "rAj\n",
      "Enter n = 8\n",
      "Enter x = 12\n",
      "Enter x = 89\n",
      "Enter x = 98\n",
      "Enter x = 90\n",
      "Enter x = 98\n",
      "Enter x = 87\n",
      "Enter x = 70\n",
      "Enter x = 76\n",
      "Total =  620\n",
      "Your percent =  77.5 %\n",
      "Grade B\n"
     ]
    }
   ],
   "source": [
    "name = input()\n",
    "n = int(input(\"Enter n = \"))\n",
    "sum = 0\n",
    "for i in range(1,n+1):\n",
    "    x = int(input(\"Enter x = \"))\n",
    "    sum+=x\n",
    "print(\"Total = \",sum)\n",
    "per = sum/n\n",
    "print(\"Your percent = \",per,\"%\")\n",
    "if per >= 80:\n",
    "    print(\"Grade A\")\n",
    "elif per >= 70:\n",
    "    print(\"Grade B\")\n",
    "elif per >= 60:\n",
    "    print(\"Grade C\")\n",
    "elif per >= 50:\n",
    "    print(\"Grade D\")\n",
    "else:\n",
    "    print(\"Grade E\")\n",
    "    print(\"Study hard u need improvement\")\n",
    "\n",
    "        "
   ]
  },
  {
   "cell_type": "code",
   "execution_count": null,
   "metadata": {},
   "outputs": [],
   "source": []
  }
 ],
 "metadata": {
  "kernelspec": {
   "display_name": "Python 3",
   "language": "python",
   "name": "python3"
  },
  "language_info": {
   "codemirror_mode": {
    "name": "ipython",
    "version": 3
   },
   "file_extension": ".py",
   "mimetype": "text/x-python",
   "name": "python",
   "nbconvert_exporter": "python",
   "pygments_lexer": "ipython3",
   "version": "3.8.5"
  }
 },
 "nbformat": 4,
 "nbformat_minor": 4
}
