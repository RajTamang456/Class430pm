{
 "cells": [
  {
   "cell_type": "code",
   "execution_count": 1,
   "metadata": {},
   "outputs": [
    {
     "name": "stdout",
     "output_type": "stream",
     "text": [
      "Enter n = 6\n",
      "Enter name = raj\n",
      "Enter age = 22\n",
      "Enter add = ktm\n",
      "Enter phone = 9863653307\n",
      "Enter name = ram\n",
      "Enter age = 21\n",
      "Enter add = lalitpur\n",
      "Enter phone = 9810243536\n",
      "Enter name = sam\n",
      "Enter age = 23\n",
      "Enter add = pkr\n",
      "Enter phone = 9808123456\n",
      "Enter name = hari\n",
      "Enter age = 25\n",
      "Enter add = bkt\n",
      "Enter phone = 9803856781\n",
      "Enter name = unsie\n",
      "Enter age = 23\n",
      "Enter add = jhapa\n",
      "Enter phone = 9813151213\n",
      "Enter name = sandesh\n",
      "Enter age = 27\n",
      "Enter add = dolpa\n",
      "Enter phone = 9860123673\n"
     ]
    }
   ],
   "source": [
    "data = str()\n",
    "n = int(input(\"Enter n = \"))\n",
    "b = open('data.csv','w')\n",
    "b.write(\"Name,Age,Address,Phone\\n\")\n",
    "for i in range(n):\n",
    "    name = input(\"Enter name = \")\n",
    "    age = int(input(\"Enter age = \"))\n",
    "    add = input(\"Enter add = \")\n",
    "    phone = int(input(\"Enter phone = \"))\n",
    "    info = f\"{name},{age},{add},{phone}\\n\"\n",
    "    data+=info\n",
    "\n",
    "b.write(data)\n",
    "b.close()"
   ]
  },
  {
   "cell_type": "code",
   "execution_count": 2,
   "metadata": {
    "scrolled": true
   },
   "outputs": [
    {
     "name": "stdout",
     "output_type": "stream",
     "text": [
      "Name,Age,Address,Phone\n",
      "raj,22,ktm,9863653307\n",
      "ram,21,lalitpur,9810243536\n",
      "sam,23,pkr,9808123456\n",
      "hari,25,bkt,9803856781\n",
      "unsie,23,jhapa,9813151213\n",
      "sandesh,27,dolpa,9860123673\n",
      "\n"
     ]
    }
   ],
   "source": [
    "b = open('data.csv','r')\n",
    "c = b.read()\n",
    "print(c)\n",
    "b.close()"
   ]
  },
  {
   "cell_type": "code",
   "execution_count": 6,
   "metadata": {},
   "outputs": [
    {
     "name": "stdout",
     "output_type": "stream",
     "text": [
      "   SN     Name  Age   Address       Phone\n",
      "0   1      raj   22       ktm  9863653307\n",
      "1   2      ram   21  lalitpur  9810243536\n",
      "2   3      sam   23       pkr  9808123456\n",
      "3   4     hari   25       bkt  9803856781\n",
      "4   5    unsie   23     jhapa  9813151213\n",
      "5   6  sandesh   27     dolpa  9860123673\n"
     ]
    }
   ],
   "source": [
    "import pandas as pd\n",
    "df = pd.read_csv('data.csv')\n",
    "print(df)"
   ]
  },
  {
   "cell_type": "code",
   "execution_count": 7,
   "metadata": {},
   "outputs": [
    {
     "name": "stdout",
     "output_type": "stream",
     "text": [
      "   SN   Name  Age   Address       Phone\n",
      "0   1    raj   22       ktm  9863653307\n",
      "1   2    ram   21  lalitpur  9810243536\n",
      "2   3    sam   23       pkr  9808123456\n",
      "3   4   hari   25       bkt  9803856781\n",
      "4   5  unsie   23     jhapa  9813151213\n"
     ]
    }
   ],
   "source": [
    "import pandas as pd\n",
    "df = pd.read_csv('data.csv')\n",
    "print(df.head())"
   ]
  },
  {
   "cell_type": "code",
   "execution_count": 8,
   "metadata": {},
   "outputs": [
    {
     "name": "stdout",
     "output_type": "stream",
     "text": [
      "   SN     Name  Age Address       Phone\n",
      "3   4     hari   25     bkt  9803856781\n",
      "4   5    unsie   23   jhapa  9813151213\n",
      "5   6  sandesh   27   dolpa  9860123673\n"
     ]
    }
   ],
   "source": [
    "import pandas as pd\n",
    "df = pd.read_csv('data.csv')\n",
    "print(df.tail(3))"
   ]
  },
  {
   "cell_type": "code",
   "execution_count": 11,
   "metadata": {},
   "outputs": [
    {
     "name": "stdout",
     "output_type": "stream",
     "text": [
      "       Name  Age   Address       Phone\n",
      "SN                                    \n",
      "1       raj   22       ktm  9863653307\n",
      "2       ram   21  lalitpur  9810243536\n",
      "3       sam   23       pkr  9808123456\n",
      "4      hari   25       bkt  9803856781\n",
      "5     unsie   23     jhapa  9813151213\n",
      "6   sandesh   27     dolpa  9860123673\n"
     ]
    }
   ],
   "source": [
    "import pandas as pd\n",
    "df = pd.read_csv('data.csv',index_col = 'SN')\n",
    "print(df)"
   ]
  },
  {
   "cell_type": "code",
   "execution_count": 13,
   "metadata": {},
   "outputs": [
    {
     "name": "stdout",
     "output_type": "stream",
     "text": [
      "    Name  Age   Address\n",
      "SN                     \n",
      "1    raj   22       ktm\n",
      "2    ram   21  lalitpur\n",
      "3    sam   23       pkr\n",
      "4   hari   25       bkt\n"
     ]
    }
   ],
   "source": [
    "import pandas as pd\n",
    "df = pd.read_csv('data.csv',index_col = 'SN')\n",
    "print(df.iloc[0:4,0:3])"
   ]
  },
  {
   "cell_type": "code",
   "execution_count": 14,
   "metadata": {},
   "outputs": [
    {
     "name": "stdout",
     "output_type": "stream",
     "text": [
      "     Name  Age   Address       Phone\n",
      "SN                                  \n",
      "1     raj   22       ktm  9863653307\n",
      "2     ram   21  lalitpur  9810243536\n",
      "3     sam   23       pkr  9808123456\n",
      "4    hari   25       bkt  9803856781\n",
      "5   unsie   23     jhapa  9813151213\n"
     ]
    }
   ],
   "source": [
    "import pandas as pd\n",
    "df = pd.read_csv('data.csv',index_col = 'SN')\n",
    "print(df.loc[1:5])"
   ]
  },
  {
   "cell_type": "code",
   "execution_count": 2,
   "metadata": {},
   "outputs": [
    {
     "data": {
      "text/html": [
       "<div>\n",
       "<style scoped>\n",
       "    .dataframe tbody tr th:only-of-type {\n",
       "        vertical-align: middle;\n",
       "    }\n",
       "\n",
       "    .dataframe tbody tr th {\n",
       "        vertical-align: top;\n",
       "    }\n",
       "\n",
       "    .dataframe thead th {\n",
       "        text-align: right;\n",
       "    }\n",
       "</style>\n",
       "<table border=\"1\" class=\"dataframe\">\n",
       "  <thead>\n",
       "    <tr style=\"text-align: right;\">\n",
       "      <th></th>\n",
       "      <th>Name</th>\n",
       "      <th>Age</th>\n",
       "      <th>Address</th>\n",
       "      <th>Phone</th>\n",
       "    </tr>\n",
       "    <tr>\n",
       "      <th>SN</th>\n",
       "      <th></th>\n",
       "      <th></th>\n",
       "      <th></th>\n",
       "      <th></th>\n",
       "    </tr>\n",
       "  </thead>\n",
       "  <tbody>\n",
       "    <tr>\n",
       "      <th>4</th>\n",
       "      <td>hari</td>\n",
       "      <td>25</td>\n",
       "      <td>bkt</td>\n",
       "      <td>9803856781</td>\n",
       "    </tr>\n",
       "  </tbody>\n",
       "</table>\n",
       "</div>"
      ],
      "text/plain": [
       "    Name  Age Address       Phone\n",
       "SN                               \n",
       "4   hari   25     bkt  9803856781"
      ]
     },
     "execution_count": 2,
     "metadata": {},
     "output_type": "execute_result"
    }
   ],
   "source": [
    "import pandas as pd\n",
    "df = pd.read_csv('data.csv',index_col = 'SN')\n",
    "df[(df[\"Age\"]>22) & (df[\"Address\"] == \"bkt\")]"
   ]
  },
  {
   "cell_type": "code",
   "execution_count": 3,
   "metadata": {},
   "outputs": [
    {
     "data": {
      "text/html": [
       "<div>\n",
       "<style scoped>\n",
       "    .dataframe tbody tr th:only-of-type {\n",
       "        vertical-align: middle;\n",
       "    }\n",
       "\n",
       "    .dataframe tbody tr th {\n",
       "        vertical-align: top;\n",
       "    }\n",
       "\n",
       "    .dataframe thead th {\n",
       "        text-align: right;\n",
       "    }\n",
       "</style>\n",
       "<table border=\"1\" class=\"dataframe\">\n",
       "  <thead>\n",
       "    <tr style=\"text-align: right;\">\n",
       "      <th></th>\n",
       "      <th>Name</th>\n",
       "      <th>Age</th>\n",
       "      <th>Address</th>\n",
       "      <th>Phone</th>\n",
       "    </tr>\n",
       "    <tr>\n",
       "      <th>SN</th>\n",
       "      <th></th>\n",
       "      <th></th>\n",
       "      <th></th>\n",
       "      <th></th>\n",
       "    </tr>\n",
       "  </thead>\n",
       "  <tbody>\n",
       "    <tr>\n",
       "      <th>1</th>\n",
       "      <td>raj</td>\n",
       "      <td>22</td>\n",
       "      <td>ktm</td>\n",
       "      <td>9863653307</td>\n",
       "    </tr>\n",
       "    <tr>\n",
       "      <th>3</th>\n",
       "      <td>sam</td>\n",
       "      <td>23</td>\n",
       "      <td>pkr</td>\n",
       "      <td>9808123456</td>\n",
       "    </tr>\n",
       "    <tr>\n",
       "      <th>4</th>\n",
       "      <td>hari</td>\n",
       "      <td>25</td>\n",
       "      <td>bkt</td>\n",
       "      <td>9803856781</td>\n",
       "    </tr>\n",
       "    <tr>\n",
       "      <th>5</th>\n",
       "      <td>unsie</td>\n",
       "      <td>23</td>\n",
       "      <td>jhapa</td>\n",
       "      <td>9813151213</td>\n",
       "    </tr>\n",
       "    <tr>\n",
       "      <th>6</th>\n",
       "      <td>sandesh</td>\n",
       "      <td>27</td>\n",
       "      <td>dolpa</td>\n",
       "      <td>9860123673</td>\n",
       "    </tr>\n",
       "  </tbody>\n",
       "</table>\n",
       "</div>"
      ],
      "text/plain": [
       "       Name  Age Address       Phone\n",
       "SN                                  \n",
       "1       raj   22     ktm  9863653307\n",
       "3       sam   23     pkr  9808123456\n",
       "4      hari   25     bkt  9803856781\n",
       "5     unsie   23   jhapa  9813151213\n",
       "6   sandesh   27   dolpa  9860123673"
      ]
     },
     "execution_count": 3,
     "metadata": {},
     "output_type": "execute_result"
    }
   ],
   "source": [
    "import pandas as pd\n",
    "df = pd.read_csv('data.csv',index_col = 'SN')\n",
    "df[(df[\"Age\"]>22) | (df[\"Address\"] == \"ktm\")]"
   ]
  },
  {
   "cell_type": "code",
   "execution_count": 25,
   "metadata": {},
   "outputs": [],
   "source": [
    "import pandas as pd\n",
    "df = pd.read_csv('data.csv',index_col = 'SN')\n",
    "df1 = df[(df[\"Age\"]>22) & (df[\"Address\"] == \"pkr\")]\n",
    "df1.to_csv('filtered_data.csv')"
   ]
  },
  {
   "cell_type": "code",
   "execution_count": 5,
   "metadata": {},
   "outputs": [
    {
     "name": "stdout",
     "output_type": "stream",
     "text": [
      "Enter n = 2\n",
      "Enter name = raj\n",
      "Enter ntc no = 984513636\n",
      "Enter ncell no = 9808363663\n",
      "Enter name = sam\n",
      "Enter ntc no = 986374575\n",
      "Enter ncell no = 98037272626\n",
      "{'raj': [984513636, 9808363663], 'sam': [986374575, 98037272626]}\n"
     ]
    }
   ],
   "source": [
    "import pandas as pd\n",
    "data = {}\n",
    "n = int(input(\"Enter n = \"))\n",
    "for i in range(n):\n",
    "    name = input(\"Enter name = \")\n",
    "    ntc = int(input(\"Enter ntc no = \"))\n",
    "    ncell = int(input(\"Enter ncell no = \"))\n",
    "    data[name] = [ntc,ncell]\n",
    "print(data)\n",
    "df = pd.DataFrame(data)\n",
    "df.to_csv('datas.csv')"
   ]
  },
  {
   "cell_type": "code",
   "execution_count": 9,
   "metadata": {},
   "outputs": [
    {
     "data": {
      "text/html": [
       "<div>\n",
       "<style scoped>\n",
       "    .dataframe tbody tr th:only-of-type {\n",
       "        vertical-align: middle;\n",
       "    }\n",
       "\n",
       "    .dataframe tbody tr th {\n",
       "        vertical-align: top;\n",
       "    }\n",
       "\n",
       "    .dataframe thead th {\n",
       "        text-align: right;\n",
       "    }\n",
       "</style>\n",
       "<table border=\"1\" class=\"dataframe\">\n",
       "  <thead>\n",
       "    <tr style=\"text-align: right;\">\n",
       "      <th></th>\n",
       "      <th>Sn</th>\n",
       "      <th>raj</th>\n",
       "      <th>sam</th>\n",
       "    </tr>\n",
       "  </thead>\n",
       "  <tbody>\n",
       "    <tr>\n",
       "      <th>0</th>\n",
       "      <td>1</td>\n",
       "      <td>984513636</td>\n",
       "      <td>986374575</td>\n",
       "    </tr>\n",
       "    <tr>\n",
       "      <th>1</th>\n",
       "      <td>2</td>\n",
       "      <td>9808363663</td>\n",
       "      <td>98037272626</td>\n",
       "    </tr>\n",
       "  </tbody>\n",
       "</table>\n",
       "</div>"
      ],
      "text/plain": [
       "   Sn         raj          sam\n",
       "0   1   984513636    986374575\n",
       "1   2  9808363663  98037272626"
      ]
     },
     "execution_count": 9,
     "metadata": {},
     "output_type": "execute_result"
    }
   ],
   "source": [
    "a = {\"Sn\":[1,2],'raj': [984513636, 9808363663], 'sam': [986374575, 98037272626]}\n",
    "a\n",
    "df = pd.DataFrame(a)\n",
    "df"
   ]
  },
  {
   "cell_type": "code",
   "execution_count": 1,
   "metadata": {},
   "outputs": [],
   "source": [
    "#dict writer\n",
    "import csv\n",
    "fields = ['Raj','23','ktm']\n",
    "with open('list.csv','a') as f:\n",
    "    x = csv.writer(f)\n",
    "    x.writerow(fields)\n",
    "    "
   ]
  },
  {
   "cell_type": "code",
   "execution_count": 4,
   "metadata": {},
   "outputs": [
    {
     "name": "stdout",
     "output_type": "stream",
     "text": [
      "Enter n = 2\n",
      "Enter name = raj\n",
      "Enter age = 23\n",
      "Enter add = ktm\n",
      "Enter name = sam\n",
      "Enter age = 21\n",
      "Enter add = pkr\n"
     ]
    }
   ],
   "source": [
    "import csv\n",
    "output = []\n",
    "n = int(input(\"Enter n = \"))\n",
    "for i in range(n):\n",
    "    name = input(\"Enter name = \")\n",
    "    age = int(input(\"Enter age = \"))\n",
    "    add = input(\"Enter add = \")\n",
    "    info = [name,age,add]\n",
    "    output.append(info)\n",
    "\n",
    "f = open('list.csv','a')\n",
    "x = csv.writer(f)\n",
    "for i in output:\n",
    "    x.writerow(i)\n",
    "f.close()"
   ]
  },
  {
   "cell_type": "code",
   "execution_count": 7,
   "metadata": {},
   "outputs": [
    {
     "name": "stdout",
     "output_type": "stream",
     "text": [
      "{'Name': 'Raj', 'age': '23', 'Address': 'ktm'}\n",
      "{'Name': 'raj', 'age': '23', 'Address': 'ktm'}\n",
      "{'Name': 'sam', 'age': '21', 'Address': 'pkr'}\n"
     ]
    }
   ],
   "source": [
    "#dictionary reader\n",
    "import csv\n",
    "with open('list.csv') as csvfile:\n",
    "    reader = csv.DictReader(csvfile)\n",
    "    for row in reader:\n",
    "        print(row)"
   ]
  },
  {
   "cell_type": "code",
   "execution_count": 9,
   "metadata": {},
   "outputs": [
    {
     "data": {
      "text/html": [
       "<div>\n",
       "<style scoped>\n",
       "    .dataframe tbody tr th:only-of-type {\n",
       "        vertical-align: middle;\n",
       "    }\n",
       "\n",
       "    .dataframe tbody tr th {\n",
       "        vertical-align: top;\n",
       "    }\n",
       "\n",
       "    .dataframe thead th {\n",
       "        text-align: right;\n",
       "    }\n",
       "</style>\n",
       "<table border=\"1\" class=\"dataframe\">\n",
       "  <thead>\n",
       "    <tr style=\"text-align: right;\">\n",
       "      <th></th>\n",
       "      <th>Name</th>\n",
       "      <th>Age</th>\n",
       "      <th>Address</th>\n",
       "      <th>Phone</th>\n",
       "    </tr>\n",
       "    <tr>\n",
       "      <th>SN</th>\n",
       "      <th></th>\n",
       "      <th></th>\n",
       "      <th></th>\n",
       "      <th></th>\n",
       "    </tr>\n",
       "  </thead>\n",
       "  <tbody>\n",
       "    <tr>\n",
       "      <th>3</th>\n",
       "      <td>sam</td>\n",
       "      <td>23</td>\n",
       "      <td>pkr</td>\n",
       "      <td>9808123456</td>\n",
       "    </tr>\n",
       "    <tr>\n",
       "      <th>4</th>\n",
       "      <td>hari</td>\n",
       "      <td>25</td>\n",
       "      <td>bkt</td>\n",
       "      <td>9803856781</td>\n",
       "    </tr>\n",
       "    <tr>\n",
       "      <th>5</th>\n",
       "      <td>unsie</td>\n",
       "      <td>23</td>\n",
       "      <td>jhapa</td>\n",
       "      <td>9813151213</td>\n",
       "    </tr>\n",
       "    <tr>\n",
       "      <th>6</th>\n",
       "      <td>sandesh</td>\n",
       "      <td>27</td>\n",
       "      <td>dolpa</td>\n",
       "      <td>9860123673</td>\n",
       "    </tr>\n",
       "  </tbody>\n",
       "</table>\n",
       "</div>"
      ],
      "text/plain": [
       "       Name  Age Address       Phone\n",
       "SN                                  \n",
       "3       sam   23     pkr  9808123456\n",
       "4      hari   25     bkt  9803856781\n",
       "5     unsie   23   jhapa  9813151213\n",
       "6   sandesh   27   dolpa  9860123673"
      ]
     },
     "execution_count": 9,
     "metadata": {},
     "output_type": "execute_result"
    }
   ],
   "source": [
    "import pandas as pd\n",
    "df = pd.read_csv('data.csv',index_col = 'SN')\n",
    "df = df.drop([1,2], axis = 0)\n",
    "df"
   ]
  },
  {
   "cell_type": "code",
   "execution_count": 11,
   "metadata": {},
   "outputs": [
    {
     "data": {
      "text/html": [
       "<div>\n",
       "<style scoped>\n",
       "    .dataframe tbody tr th:only-of-type {\n",
       "        vertical-align: middle;\n",
       "    }\n",
       "\n",
       "    .dataframe tbody tr th {\n",
       "        vertical-align: top;\n",
       "    }\n",
       "\n",
       "    .dataframe thead th {\n",
       "        text-align: right;\n",
       "    }\n",
       "</style>\n",
       "<table border=\"1\" class=\"dataframe\">\n",
       "  <thead>\n",
       "    <tr style=\"text-align: right;\">\n",
       "      <th></th>\n",
       "      <th>Name</th>\n",
       "      <th>Age</th>\n",
       "      <th>Address</th>\n",
       "    </tr>\n",
       "    <tr>\n",
       "      <th>SN</th>\n",
       "      <th></th>\n",
       "      <th></th>\n",
       "      <th></th>\n",
       "    </tr>\n",
       "  </thead>\n",
       "  <tbody>\n",
       "    <tr>\n",
       "      <th>1</th>\n",
       "      <td>raj</td>\n",
       "      <td>22</td>\n",
       "      <td>ktm</td>\n",
       "    </tr>\n",
       "    <tr>\n",
       "      <th>2</th>\n",
       "      <td>ram</td>\n",
       "      <td>21</td>\n",
       "      <td>lalitpur</td>\n",
       "    </tr>\n",
       "    <tr>\n",
       "      <th>3</th>\n",
       "      <td>sam</td>\n",
       "      <td>23</td>\n",
       "      <td>pkr</td>\n",
       "    </tr>\n",
       "    <tr>\n",
       "      <th>4</th>\n",
       "      <td>hari</td>\n",
       "      <td>25</td>\n",
       "      <td>bkt</td>\n",
       "    </tr>\n",
       "    <tr>\n",
       "      <th>5</th>\n",
       "      <td>unsie</td>\n",
       "      <td>23</td>\n",
       "      <td>jhapa</td>\n",
       "    </tr>\n",
       "    <tr>\n",
       "      <th>6</th>\n",
       "      <td>sandesh</td>\n",
       "      <td>27</td>\n",
       "      <td>dolpa</td>\n",
       "    </tr>\n",
       "  </tbody>\n",
       "</table>\n",
       "</div>"
      ],
      "text/plain": [
       "       Name  Age   Address\n",
       "SN                        \n",
       "1       raj   22       ktm\n",
       "2       ram   21  lalitpur\n",
       "3       sam   23       pkr\n",
       "4      hari   25       bkt\n",
       "5     unsie   23     jhapa\n",
       "6   sandesh   27     dolpa"
      ]
     },
     "execution_count": 11,
     "metadata": {},
     "output_type": "execute_result"
    }
   ],
   "source": [
    "import pandas as pd\n",
    "df = pd.read_csv('data.csv',index_col = 'SN')\n",
    "df = df.drop([\"Phone\"], axis = 1)\n",
    "df"
   ]
  },
  {
   "cell_type": "code",
   "execution_count": 1,
   "metadata": {},
   "outputs": [],
   "source": [
    "import csv\n",
    "csv_columns = ['Name', 'Age', 'Address']\n",
    "dict = [\n",
    "    {'Name':'Aayush','Age':23,'Address':'Katmandu'},\n",
    "    {'Name':'Shyam','Age':33,'Address':'Patan'}\n",
    "]\n",
    "with open(\"Python.csv\", 'w') as csvfile:\n",
    "    writer = csv.DictWriter(csvfile, fieldnames=csv_columns)\n",
    "    writer.writeheader()\n",
    "    for data in dict:\n",
    "        writer.writerow(data)\n",
    "\n"
   ]
  },
  {
   "cell_type": "code",
   "execution_count": 4,
   "metadata": {},
   "outputs": [
    {
     "name": "stdout",
     "output_type": "stream",
     "text": [
      "Name,Age,Address\n",
      "\n",
      "Aayush,23,Katmandu\n",
      "\n",
      "Shyam,33,Patan\n",
      "\n",
      "\n"
     ]
    }
   ],
   "source": [
    "b = open('Python.csv','r')\n",
    "c = b.read()\n",
    "print(c)\n",
    "b.close()"
   ]
  },
  {
   "cell_type": "code",
   "execution_count": 8,
   "metadata": {},
   "outputs": [
    {
     "name": "stdout",
     "output_type": "stream",
     "text": [
      "     Name  Age   Address\n",
      "0  Aayush   23  Katmandu\n",
      "1   Shyam   33     Patan\n"
     ]
    }
   ],
   "source": [
    "import pandas as pd\n",
    "df = pd.read_csv('Python.csv',)\n",
    "print(df)"
   ]
  },
  {
   "cell_type": "code",
   "execution_count": 13,
   "metadata": {},
   "outputs": [
    {
     "name": "stdout",
     "output_type": "stream",
     "text": [
      "      Name  Age   Address\n",
      "Sn                       \n",
      "1   Aayush   23  Katmandu\n",
      "2    Shyam   33     Patan\n"
     ]
    }
   ],
   "source": [
    "import pandas as pd\n",
    "df = pd.read_csv('Python.csv', index_col = 'Sn')\n",
    "print(df)"
   ]
  },
  {
   "cell_type": "code",
   "execution_count": null,
   "metadata": {},
   "outputs": [],
   "source": []
  },
  {
   "cell_type": "code",
   "execution_count": null,
   "metadata": {},
   "outputs": [],
   "source": []
  }
 ],
 "metadata": {
  "kernelspec": {
   "display_name": "Python 3",
   "language": "python",
   "name": "python3"
  },
  "language_info": {
   "codemirror_mode": {
    "name": "ipython",
    "version": 3
   },
   "file_extension": ".py",
   "mimetype": "text/x-python",
   "name": "python",
   "nbconvert_exporter": "python",
   "pygments_lexer": "ipython3",
   "version": "3.8.5"
  }
 },
 "nbformat": 4,
 "nbformat_minor": 4
}
