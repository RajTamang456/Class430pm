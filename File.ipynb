{
 "cells": [
  {
   "cell_type": "code",
   "execution_count": 2,
   "metadata": {},
   "outputs": [
    {
     "ename": "FileExistsError",
     "evalue": "[Errno 17] File exists: 'class430pm.txt'",
     "output_type": "error",
     "traceback": [
      "\u001b[1;31m---------------------------------------------------------------------------\u001b[0m",
      "\u001b[1;31mFileExistsError\u001b[0m                           Traceback (most recent call last)",
      "\u001b[1;32m<ipython-input-2-00bb23f148da>\u001b[0m in \u001b[0;36m<module>\u001b[1;34m\u001b[0m\n\u001b[1;32m----> 1\u001b[1;33m \u001b[0mb\u001b[0m \u001b[1;33m=\u001b[0m \u001b[0mopen\u001b[0m\u001b[1;33m(\u001b[0m\u001b[1;34m'class430pm.txt'\u001b[0m\u001b[1;33m,\u001b[0m\u001b[1;34m'x'\u001b[0m\u001b[1;33m)\u001b[0m\u001b[1;33m\u001b[0m\u001b[1;33m\u001b[0m\u001b[0m\n\u001b[0m\u001b[0;32m      2\u001b[0m \u001b[0mb\u001b[0m\u001b[1;33m.\u001b[0m\u001b[0mclose\u001b[0m\u001b[1;33m(\u001b[0m\u001b[1;33m)\u001b[0m\u001b[1;33m\u001b[0m\u001b[1;33m\u001b[0m\u001b[0m\n",
      "\u001b[1;31mFileExistsError\u001b[0m: [Errno 17] File exists: 'class430pm.txt'"
     ]
    }
   ],
   "source": [
    "b = open('class430pm.txt','x')\n",
    "b.close()"
   ]
  },
  {
   "cell_type": "code",
   "execution_count": 3,
   "metadata": {},
   "outputs": [],
   "source": [
    "#b = open('<file_path>,<mode>')\n",
    "#b.close()"
   ]
  },
  {
   "cell_type": "code",
   "execution_count": 5,
   "metadata": {},
   "outputs": [
    {
     "name": "stdout",
     "output_type": "stream",
     "text": [
      "<class 'str'>\n",
      "Hello world\n",
      "Hello world\n",
      "Hello world\n",
      "Hello world\n",
      "Hello world\n",
      "Hello world\n"
     ]
    }
   ],
   "source": [
    "b = open('class430pm.txt','r')\n",
    "c = b.read()\n",
    "print(type(c))\n",
    "print(c)\n",
    "b.close()"
   ]
  },
  {
   "cell_type": "code",
   "execution_count": 6,
   "metadata": {},
   "outputs": [
    {
     "name": "stdout",
     "output_type": "stream",
     "text": [
      "<class 'str'>\n",
      "Hello world\n",
      "Hello wo\n"
     ]
    }
   ],
   "source": [
    "b = open('class430pm.txt','r')\n",
    "c = b.read(20)\n",
    "print(type(c))\n",
    "print(c)\n",
    "b.close()"
   ]
  },
  {
   "cell_type": "code",
   "execution_count": 7,
   "metadata": {},
   "outputs": [
    {
     "name": "stdout",
     "output_type": "stream",
     "text": [
      "<class 'str'>\n",
      "Hello world\n",
      "\n"
     ]
    }
   ],
   "source": [
    "b = open('class430pm.txt','r')\n",
    "c = b.readline()\n",
    "print(type(c))\n",
    "print(c)\n",
    "b.close()"
   ]
  },
  {
   "cell_type": "code",
   "execution_count": 9,
   "metadata": {},
   "outputs": [],
   "source": [
    "b = open('class430pm.txt','a')\n",
    "b.write(\"\\n1.Hello world\")\n",
    "b.close()"
   ]
  },
  {
   "cell_type": "code",
   "execution_count": 1,
   "metadata": {},
   "outputs": [
    {
     "name": "stdout",
     "output_type": "stream",
     "text": [
      "Enter n = 2\n",
      "Enter name = raj\n",
      "Enter age = 23\n",
      "Enter add = ktm\n",
      "Enter phone = 9863653307\n",
      "Enter name = sam\n",
      "Enter age = 34\n",
      "Enter add = pkr\n",
      "Enter phone = 9841703635\n"
     ]
    }
   ],
   "source": [
    "data = str()\n",
    "n = int(input(\"Enter n = \"))\n",
    "for i in range(n):\n",
    "    name = input(\"Enter name = \")\n",
    "    age = int(input(\"Enter age = \"))\n",
    "    add = input(\"Enter add = \")\n",
    "    phone = int(input(\"Enter phone = \"))\n",
    "    info = f\"{name} {age} {add} {phone}\\n\"\n",
    "    data+=info\n",
    "b = open('data.txt','w')\n",
    "b.write(data)\n",
    "b.close()"
   ]
  },
  {
   "cell_type": "code",
   "execution_count": 7,
   "metadata": {},
   "outputs": [
    {
     "name": "stdout",
     "output_type": "stream",
     "text": [
      "raj 23 ktm 9863653307\n",
      "sam 34 pkr 9841703635\n",
      "\n"
     ]
    }
   ],
   "source": [
    "b = open('data.txt','r')\n",
    "c = b.read()\n",
    "print(c)\n",
    "b.close()"
   ]
  },
  {
   "cell_type": "code",
   "execution_count": 8,
   "metadata": {},
   "outputs": [
    {
     "name": "stdout",
     "output_type": "stream",
     "text": [
      "[['raj', '23', 'ktm', '9863653307'], ['sam', '34', 'pkr', '9841703635']]\n"
     ]
    }
   ],
   "source": [
    "final_data= []\n",
    "d = c.split('\\n')[0:-1]\n",
    "for i in d:\n",
    "    x = i.split()\n",
    "    final_data.append(x)\n",
    "print(final_data)"
   ]
  },
  {
   "cell_type": "code",
   "execution_count": 16,
   "metadata": {},
   "outputs": [
    {
     "name": "stdout",
     "output_type": "stream",
     "text": [
      "[['Raj', '23', 'usa', '9863653307'], ['sam', '34', 'pkr', '9841703635']]\n"
     ]
    }
   ],
   "source": [
    "final_data[0][2]='usa'\n",
    "print(final_data)"
   ]
  },
  {
   "cell_type": "code",
   "execution_count": 7,
   "metadata": {},
   "outputs": [
    {
     "name": "stdout",
     "output_type": "stream",
     "text": [
      "Enter n = 2\n",
      "Enter name = raj\n",
      "Enter age = 23\n",
      "Enter add = kjtm\n",
      "Enter phone = 353666556\n",
      "Enter name = sam\n",
      "Enter age = 23\n",
      "Enter add = htht\n",
      "Enter phone = 3434565666\n"
     ]
    }
   ],
   "source": [
    "data = str()\n",
    "n = int(input(\"Enter n = \"))\n",
    "b = open('data.csv','w')\n",
    "b.write(\"Name,Age,Address,Phone\\n\")\n",
    "for i in range(n):\n",
    "    name = input(\"Enter name = \")\n",
    "    age = int(input(\"Enter age = \"))\n",
    "    add = input(\"Enter add = \")\n",
    "    phone = int(input(\"Enter phone = \"))\n",
    "    info = f\"{name},{age},{add},{phone}\\n\"\n",
    "    data+=info\n",
    "\n",
    "b.write(data)\n",
    "b.close()"
   ]
  },
  {
   "cell_type": "code",
   "execution_count": 9,
   "metadata": {},
   "outputs": [
    {
     "name": "stdout",
     "output_type": "stream",
     "text": [
      "[['Name', 'Age', 'Address', 'Phone'], ['raj', '23', 'kjtm', '353666556'], ['sam', '23', 'htht', '3434565666']]\n"
     ]
    }
   ],
   "source": [
    "b = open('data.csv','r')\n",
    "x = b.read()\n",
    "b.close()\n",
    "\n",
    "final_data = []\n",
    "d = x.split('\\n')[0:-1]\n",
    "for i in d:\n",
    "    y = i.split(',')\n",
    "    final_data.append(y)\n",
    "print(final_data)\n",
    "    "
   ]
  },
  {
   "cell_type": "code",
   "execution_count": 10,
   "metadata": {},
   "outputs": [],
   "source": [
    "#file managment\n",
    "import os\n",
    "os.remove('data.txt')"
   ]
  },
  {
   "cell_type": "code",
   "execution_count": 11,
   "metadata": {},
   "outputs": [
    {
     "name": "stdout",
     "output_type": "stream",
     "text": [
      "There is no such file\n"
     ]
    }
   ],
   "source": [
    "import os\n",
    "if os.path.exists('data.txt'):\n",
    "    b = open('data.txt','r')\n",
    "    print(b.read())\n",
    "    b.close()\n",
    "else:\n",
    "    print(\"There is no such file\")\n",
    "    "
   ]
  },
  {
   "cell_type": "code",
   "execution_count": 12,
   "metadata": {},
   "outputs": [
    {
     "name": "stdout",
     "output_type": "stream",
     "text": [
      "There is no such file\n"
     ]
    }
   ],
   "source": [
    "import os\n",
    "if os.path.exists('data.txt'):\n",
    "    os.remove('data.txt')\n",
    "else:\n",
    "    print(\"There is no such file\")\n",
    "    "
   ]
  },
  {
   "cell_type": "code",
   "execution_count": 13,
   "metadata": {},
   "outputs": [
    {
     "data": {
      "text/plain": [
       "'Untitled Folder/data.csv'"
      ]
     },
     "execution_count": 13,
     "metadata": {},
     "output_type": "execute_result"
    }
   ],
   "source": [
    "import shutil as s\n",
    "src = 'data.csv' #sourse\n",
    "dst = 'Untitled Folder/'\n",
    "s.copy(src,dst)\n",
    "\n"
   ]
  },
  {
   "cell_type": "code",
   "execution_count": 14,
   "metadata": {},
   "outputs": [
    {
     "data": {
      "text/plain": [
       "'Untitled Folder1/'"
      ]
     },
     "execution_count": 14,
     "metadata": {},
     "output_type": "execute_result"
    }
   ],
   "source": [
    "import shutil as s\n",
    "src = 'Untitled Folder'\n",
    "dst = 'Untitled Folder1/'\n",
    "s.copytree(src,dst)\n",
    "\n"
   ]
  },
  {
   "cell_type": "code",
   "execution_count": 15,
   "metadata": {},
   "outputs": [
    {
     "data": {
      "text/plain": [
       "'Untitled Folder1/Untitled Folder3'"
      ]
     },
     "execution_count": 15,
     "metadata": {},
     "output_type": "execute_result"
    }
   ],
   "source": [
    "import shutil as s\n",
    "src = 'Untitled Folder'\n",
    "dst = 'Untitled Folder1/Untitled Folder3'\n",
    "s.move(src,dst)\n",
    "\n",
    "\n"
   ]
  },
  {
   "cell_type": "code",
   "execution_count": 17,
   "metadata": {},
   "outputs": [],
   "source": [
    "import os\n",
    "os.rename('Untitled Folder1','New Folder')"
   ]
  },
  {
   "cell_type": "code",
   "execution_count": null,
   "metadata": {},
   "outputs": [],
   "source": []
  }
 ],
 "metadata": {
  "kernelspec": {
   "display_name": "Python 3",
   "language": "python",
   "name": "python3"
  },
  "language_info": {
   "codemirror_mode": {
    "name": "ipython",
    "version": 3
   },
   "file_extension": ".py",
   "mimetype": "text/x-python",
   "name": "python",
   "nbconvert_exporter": "python",
   "pygments_lexer": "ipython3",
   "version": "3.8.5"
  }
 },
 "nbformat": 4,
 "nbformat_minor": 4
}
