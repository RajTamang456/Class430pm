{
 "cells": [
  {
   "cell_type": "code",
   "execution_count": 2,
   "metadata": {},
   "outputs": [
    {
     "name": "stdout",
     "output_type": "stream",
     "text": [
      "<class 'list'>\n",
      "[1, 2, 3, 4, 5]\n"
     ]
    }
   ],
   "source": [
    "a = []\n",
    "b = [1,2,3,4,5]\n",
    "print(type(a))\n",
    "print(b)"
   ]
  },
  {
   "cell_type": "code",
   "execution_count": 3,
   "metadata": {},
   "outputs": [],
   "source": [
    "#list\n",
    "#-it follows indexing\n",
    "#-deplicate numbers\n",
    "#-ordered\n",
    "#-mutable"
   ]
  },
  {
   "cell_type": "code",
   "execution_count": 5,
   "metadata": {},
   "outputs": [
    {
     "name": "stdout",
     "output_type": "stream",
     "text": [
      "ball\n"
     ]
    }
   ],
   "source": [
    "a = ['apple','ball','cat','dog']\n",
    "print(a[1])"
   ]
  },
  {
   "cell_type": "code",
   "execution_count": 6,
   "metadata": {},
   "outputs": [
    {
     "name": "stdout",
     "output_type": "stream",
     "text": [
      "['apple', 'ball', 'cat']\n"
     ]
    }
   ],
   "source": [
    "a = ['apple','ball','cat','dog']\n",
    "print(a[0:3])"
   ]
  },
  {
   "cell_type": "code",
   "execution_count": 7,
   "metadata": {},
   "outputs": [
    {
     "name": "stdout",
     "output_type": "stream",
     "text": [
      "['apple', 'cat']\n"
     ]
    }
   ],
   "source": [
    "a = ['apple','ball','cat','dog']\n",
    "print(a[0:4:2])"
   ]
  },
  {
   "cell_type": "code",
   "execution_count": 8,
   "metadata": {},
   "outputs": [
    {
     "name": "stdout",
     "output_type": "stream",
     "text": [
      "['apple', 'ball', 'cat', 'dog']\n"
     ]
    }
   ],
   "source": [
    "a = [\"apple\",\"ball\"]\n",
    "b = [\"cat\",\"dog\"]\n",
    "print(a+b)\n"
   ]
  },
  {
   "cell_type": "code",
   "execution_count": 9,
   "metadata": {},
   "outputs": [
    {
     "name": "stdout",
     "output_type": "stream",
     "text": [
      "['apple', 'ball', 'apple', 'ball']\n"
     ]
    }
   ],
   "source": [
    "a = [\"apple\",\"ball\"]\n",
    "print(a*2)"
   ]
  },
  {
   "cell_type": "code",
   "execution_count": 10,
   "metadata": {},
   "outputs": [
    {
     "name": "stdout",
     "output_type": "stream",
     "text": [
      "['ant', 'ball', 'cat', 'dog']\n"
     ]
    }
   ],
   "source": [
    "a = ['apple','ball','cat','dog']\n",
    "a[0] = 'ant'\n",
    "print(a)"
   ]
  },
  {
   "cell_type": "code",
   "execution_count": 11,
   "metadata": {},
   "outputs": [
    {
     "name": "stdout",
     "output_type": "stream",
     "text": [
      "Enter the value of n = 2\n",
      "Enter name = raj\n",
      "Enter name = sam\n",
      "['raj', 'sam']\n"
     ]
    }
   ],
   "source": [
    "#user define list\n",
    "names = []\n",
    "n = int(input(\"Enter the value of n = \"))\n",
    "for i in range(n):\n",
    "    name = input(\"Enter name = \")\n",
    "    names+=[name]\n",
    "print(names)\n",
    "    "
   ]
  },
  {
   "cell_type": "code",
   "execution_count": 3,
   "metadata": {},
   "outputs": [
    {
     "name": "stdout",
     "output_type": "stream",
     "text": [
      "Enter the value of n = 5\n",
      "Enter x = 18\n",
      "Enter x = 564\n",
      "Enter x = 765\n",
      "Enter x = 988\n",
      "Enter x = 344\n",
      "The list is \n",
      " [18, 564, 765, 988, 344]\n",
      "The sum of no is =  2679\n",
      "The avg of the no is =  535.8\n",
      "The max no is =  988\n",
      "The min no is =  18\n",
      "List after sorting is =  [18, 344, 564, 765, 988]\n",
      "List after reversing is =  [988, 765, 564, 344, 18]\n"
     ]
    }
   ],
   "source": [
    "y = []\n",
    "n = int(input(\"Enter the value of n = \"))\n",
    "for i in range(n):\n",
    "    x = int(input(\"Enter x = \"))\n",
    "    y+=[x]\n",
    "print(\"The list is \\n\",y)\n",
    "print(\"The sum of no is = \",sum(y))\n",
    "print(\"The avg of the no is = \",sum(y)/n)\n",
    "print(\"The max no is = \",max(y))\n",
    "print(\"The min no is = \",min(y))\n",
    "y.sort()\n",
    "print(\"List after sorting is = \",y)\n",
    "y.reverse()\n",
    "print(\"List after reversing is = \",y)"
   ]
  },
  {
   "cell_type": "code",
   "execution_count": 5,
   "metadata": {},
   "outputs": [
    {
     "name": "stdout",
     "output_type": "stream",
     "text": [
      "['.xy', '1ball', 'apple', 'zebra']\n"
     ]
    }
   ],
   "source": [
    "a = ['apple','zebra','1ball','.xy']\n",
    "a.sort()\n",
    "print(a)"
   ]
  },
  {
   "cell_type": "code",
   "execution_count": 7,
   "metadata": {},
   "outputs": [
    {
     "name": "stdout",
     "output_type": "stream",
     "text": [
      "yes 1\n"
     ]
    }
   ],
   "source": [
    "a = ['apple','ball','cat','dog']\n",
    "if 'apple' in a:\n",
    "    print(\"yes\",a.count('apple'))"
   ]
  },
  {
   "cell_type": "code",
   "execution_count": 8,
   "metadata": {},
   "outputs": [
    {
     "name": "stdout",
     "output_type": "stream",
     "text": [
      "apple\n",
      "ball\n",
      "cat\n",
      "dog\n"
     ]
    }
   ],
   "source": [
    "a = ['apple','ball','cat','dog']\n",
    "for i in a:\n",
    "    print(i)"
   ]
  },
  {
   "cell_type": "code",
   "execution_count": 9,
   "metadata": {},
   "outputs": [
    {
     "name": "stdout",
     "output_type": "stream",
     "text": [
      "0\n",
      "4\n"
     ]
    }
   ],
   "source": [
    "a = ['apple','ball','cat','dog','apple']\n",
    "for i in range(len(a)):\n",
    "    if 'apple'== a[i]:\n",
    "        print(i)"
   ]
  },
  {
   "cell_type": "code",
   "execution_count": 11,
   "metadata": {},
   "outputs": [
    {
     "name": "stdout",
     "output_type": "stream",
     "text": [
      "Enter name = ball\n",
      "1\n"
     ]
    }
   ],
   "source": [
    "a = ['apple','ball','cat','dog','apple']\n",
    "name = input(\"Enter name = \")\n",
    "for i in range(len(a)):\n",
    "    if name== a[i]:\n",
    "        print(i)"
   ]
  },
  {
   "cell_type": "code",
   "execution_count": 12,
   "metadata": {},
   "outputs": [],
   "source": [
    "#append() insert()"
   ]
  },
  {
   "cell_type": "code",
   "execution_count": 13,
   "metadata": {},
   "outputs": [
    {
     "name": "stdout",
     "output_type": "stream",
     "text": [
      "['apple']\n"
     ]
    }
   ],
   "source": [
    "a = []\n",
    "b = \"apple\"\n",
    "a.append(b)\n",
    "print(a)"
   ]
  },
  {
   "cell_type": "code",
   "execution_count": 15,
   "metadata": {},
   "outputs": [
    {
     "name": "stdout",
     "output_type": "stream",
     "text": [
      "['apple', 'bat', 'ball', 'cat', 'dog']\n"
     ]
    }
   ],
   "source": [
    "a = ['apple','ball','cat','dog'] #index\n",
    "a.insert(1,\"bat\")\n",
    "print(a)"
   ]
  },
  {
   "cell_type": "code",
   "execution_count": 16,
   "metadata": {},
   "outputs": [
    {
     "name": "stdout",
     "output_type": "stream",
     "text": [
      "Enter the value of n = 3\n",
      "Enter name = raj\n",
      "Enter name = gar\n",
      "Enter name = nhvc\n",
      "['raj', 'gar', 'nhvc']\n"
     ]
    }
   ],
   "source": [
    "names = []\n",
    "n = int(input(\"Enter the value of n = \"))\n",
    "for i in range(n):\n",
    "    name = input(\"Enter name = \")\n",
    "    names.append(name)\n",
    "print(names)\n",
    "    "
   ]
  },
  {
   "cell_type": "raw",
   "metadata": {},
   "source": [
    "#remove pop del"
   ]
  },
  {
   "cell_type": "code",
   "execution_count": 2,
   "metadata": {},
   "outputs": [
    {
     "name": "stdout",
     "output_type": "stream",
     "text": [
      "['Ball', 'Cat', 'Dog']\n"
     ]
    }
   ],
   "source": [
    "a = ['Apple','Ball','Cat','Dog']\n",
    "a.remove('Apple')\n",
    "print(a)"
   ]
  },
  {
   "cell_type": "code",
   "execution_count": 5,
   "metadata": {},
   "outputs": [
    {
     "name": "stdout",
     "output_type": "stream",
     "text": [
      "['Ball', 'Cat', 'Dog']\n"
     ]
    }
   ],
   "source": [
    "a = ['Apple','Ball','Cat','Dog','Apple']\n",
    "n = a.count('Apple')\n",
    "for i in range(n):\n",
    "    a.remove('Apple')\n",
    "print(a)"
   ]
  },
  {
   "cell_type": "code",
   "execution_count": 7,
   "metadata": {},
   "outputs": [
    {
     "name": "stdout",
     "output_type": "stream",
     "text": [
      "['Ball', 'Cat', 'Dog']\n"
     ]
    }
   ],
   "source": [
    "a = ['Apple','Ball','Cat','Dog','Apple']\n",
    "for i in a:\n",
    "    if i == 'Apple':\n",
    "        a.remove('Apple')\n",
    "print(a)\n"
   ]
  },
  {
   "cell_type": "code",
   "execution_count": 8,
   "metadata": {},
   "outputs": [
    {
     "name": "stdout",
     "output_type": "stream",
     "text": [
      "['Dog', 'Apple']\n"
     ]
    }
   ],
   "source": [
    "a = ['Apple','Ball','Cat','Dog','Apple']\n",
    "del a[0:3]\n",
    "print(a)"
   ]
  },
  {
   "cell_type": "code",
   "execution_count": 9,
   "metadata": {},
   "outputs": [
    {
     "name": "stdout",
     "output_type": "stream",
     "text": [
      "['Apple', 'Ball', 'Cat', 'Dog']\n"
     ]
    }
   ],
   "source": [
    "a = ['Apple','Ball','Cat','Dog','Apple']\n",
    "a.pop()\n",
    "print(a)"
   ]
  },
  {
   "cell_type": "code",
   "execution_count": 10,
   "metadata": {},
   "outputs": [
    {
     "name": "stdout",
     "output_type": "stream",
     "text": [
      "['Apple', 'Ball', 'Cat', 'Apple']\n"
     ]
    }
   ],
   "source": [
    "a = ['Apple','Ball','Cat','Dog','Apple']\n",
    "a.pop(3)\n",
    "print(a)"
   ]
  },
  {
   "cell_type": "code",
   "execution_count": 11,
   "metadata": {},
   "outputs": [
    {
     "data": {
      "text/plain": [
       "[]"
      ]
     },
     "execution_count": 11,
     "metadata": {},
     "output_type": "execute_result"
    }
   ],
   "source": [
    "a = ['Apple','Ball','Cat','Dog','Apple']\n",
    "a.clear()\n",
    "a"
   ]
  },
  {
   "cell_type": "code",
   "execution_count": 13,
   "metadata": {},
   "outputs": [
    {
     "name": "stdout",
     "output_type": "stream",
     "text": [
      "<class 'list'>\n",
      "3\n"
     ]
    }
   ],
   "source": [
    "#List inside list\n",
    "a = [[],[],[]]\n",
    "print(type(a))\n",
    "print(len(a))"
   ]
  },
  {
   "cell_type": "code",
   "execution_count": 14,
   "metadata": {},
   "outputs": [
    {
     "name": "stdout",
     "output_type": "stream",
     "text": [
      "[[1, 2, 3], [4, 5, 6], [7, 8, 9]]\n"
     ]
    }
   ],
   "source": [
    "a  = [[1,2,3],[4,5,6],[7,8,9]]\n",
    "print(a)"
   ]
  },
  {
   "cell_type": "code",
   "execution_count": 18,
   "metadata": {},
   "outputs": [
    {
     "name": "stdout",
     "output_type": "stream",
     "text": [
      "Enter n = 2\n",
      "Enter name = raj\n",
      "Enter age = 24\n",
      "Enter add = ktm\n",
      "Enter name = sam\n",
      "Enter age = 24\n",
      "Enter add = pkr\n",
      "[['raj', 24, 'ktm'], ['sam', 24, 'pkr']]\n"
     ]
    }
   ],
   "source": [
    "output = []\n",
    "n = int(input(\"Enter n = \"))\n",
    "for i in range(n):\n",
    "    name = input(\"Enter name = \")\n",
    "    age = int(input(\"Enter age = \"))\n",
    "    add = input(\"Enter add = \")\n",
    "    info = [name,age,add]\n",
    "    output.append(info)\n",
    "print(output)"
   ]
  },
  {
   "cell_type": "code",
   "execution_count": 19,
   "metadata": {},
   "outputs": [
    {
     "name": "stdout",
     "output_type": "stream",
     "text": [
      "[['ram', '23', 'ktm'], ['sam', '21', 'plt']]\n"
     ]
    }
   ],
   "source": [
    "a = [['ram','23','ktm']]\n",
    "b = [['sam','21','plt']]\n",
    "c = a+b\n",
    "print(c)"
   ]
  },
  {
   "cell_type": "code",
   "execution_count": 20,
   "metadata": {},
   "outputs": [
    {
     "data": {
      "text/plain": [
       "['ram', '23', 'ktm']"
      ]
     },
     "execution_count": 20,
     "metadata": {},
     "output_type": "execute_result"
    }
   ],
   "source": [
    "c[0]"
   ]
  },
  {
   "cell_type": "code",
   "execution_count": 21,
   "metadata": {},
   "outputs": [
    {
     "data": {
      "text/plain": [
       "'ram'"
      ]
     },
     "execution_count": 21,
     "metadata": {},
     "output_type": "execute_result"
    }
   ],
   "source": [
    "c[0][0]"
   ]
  },
  {
   "cell_type": "code",
   "execution_count": 22,
   "metadata": {},
   "outputs": [
    {
     "name": "stdout",
     "output_type": "stream",
     "text": [
      "[['Unise', '23', 'ktm'], ['sam', '21', 'plt']]\n"
     ]
    }
   ],
   "source": [
    "c[0][0] = \"Unise\"\n",
    "print(c)"
   ]
  },
  {
   "cell_type": "code",
   "execution_count": 23,
   "metadata": {},
   "outputs": [
    {
     "name": "stdout",
     "output_type": "stream",
     "text": [
      "[['Unise', '23', 'ktm', 'Nepal'], ['sam', '21', 'plt']]\n"
     ]
    }
   ],
   "source": [
    "c[0].append(\"Nepal\")\n",
    "print(c)"
   ]
  },
  {
   "cell_type": "code",
   "execution_count": 24,
   "metadata": {},
   "outputs": [
    {
     "name": "stdout",
     "output_type": "stream",
     "text": [
      "Enter r = 2\n",
      "Enter c = 2\n",
      "Enter x = 1\n",
      "Enter x = 2\n",
      "Enter x = 3\n",
      "Enter x = 4\n",
      "[[1, 2], [3, 4]]\n"
     ]
    }
   ],
   "source": [
    "z = []\n",
    "r = int(input(\"Enter r = \"))\n",
    "c = int(input(\"Enter c = \"))\n",
    "for i in range(r):\n",
    "    y = []\n",
    "    for j in range(c):\n",
    "        x = int(input(\"Enter x = \"))\n",
    "        y.append(x)\n",
    "    z.append(y)\n",
    "print(z)"
   ]
  },
  {
   "cell_type": "code",
   "execution_count": 25,
   "metadata": {},
   "outputs": [
    {
     "name": "stdout",
     "output_type": "stream",
     "text": [
      "Enter n = 2\n",
      "Enter name = apple\n",
      "Enter price = 100\n",
      "Enter quantity = 2\n",
      "Enter name = banana\n",
      "Enter price = 120\n",
      "Enter quantity = 3\n",
      "[['apple', 100, 2, 200], ['banana', 120, 3, 360]]\n"
     ]
    }
   ],
   "source": [
    "output = []\n",
    "n = int(input(\"Enter n = \"))\n",
    "for i in range(n):\n",
    "    name = input(\"Enter name = \")\n",
    "    price = int(input(\"Enter price = \"))\n",
    "    quantity = int(input(\"Enter quantity = \"))\n",
    "    total = price*quantity\n",
    "    info = [name,price,quantity,total]\n",
    "    output.append(info)\n",
    "print(output)"
   ]
  },
  {
   "cell_type": "code",
   "execution_count": 29,
   "metadata": {},
   "outputs": [
    {
     "name": "stdout",
     "output_type": "stream",
     "text": [
      "Enter n = 2\n",
      "Enter name = raj\n",
      "Enter age = 23\n",
      "Enter add = ktm\n",
      "Enter name = sam\n",
      "Enter age = 24\n",
      "Enter add = pkr\n",
      "raj----ktm---23\n",
      "sam----pkr---24\n",
      "\n"
     ]
    }
   ],
   "source": [
    "data = \"\"\n",
    "n = int(input(\"Enter n = \"))\n",
    "for i in range(n):\n",
    "    name = input(\"Enter name = \")\n",
    "    age = int(input(\"Enter age = \"))\n",
    "    add = input(\"Enter add = \")\n",
    "    info = f\"{name}----{add}---{age}\\n\"\n",
    "    data+=info\n",
    "print(data)\n"
   ]
  },
  {
   "cell_type": "code",
   "execution_count": 31,
   "metadata": {},
   "outputs": [
    {
     "name": "stdout",
     "output_type": "stream",
     "text": [
      "['raj----ktm---23', 'sam----pkr---24']\n",
      "[['raj', '-ktm', '23'], ['sam', '-pkr', '24']]\n"
     ]
    }
   ],
   "source": [
    "x = data.split('\\n')[0:-1]\n",
    "print(x)\n",
    "splited_value = []\n",
    "for i in x:\n",
    "    output = i.split('---')\n",
    "    splited_value.append(output)\n",
    "print(splited_value)"
   ]
  },
  {
   "cell_type": "code",
   "execution_count": null,
   "metadata": {},
   "outputs": [],
   "source": []
  }
 ],
 "metadata": {
  "kernelspec": {
   "display_name": "Python 3",
   "language": "python",
   "name": "python3"
  },
  "language_info": {
   "codemirror_mode": {
    "name": "ipython",
    "version": 3
   },
   "file_extension": ".py",
   "mimetype": "text/x-python",
   "name": "python",
   "nbconvert_exporter": "python",
   "pygments_lexer": "ipython3",
   "version": "3.8.5"
  }
 },
 "nbformat": 4,
 "nbformat_minor": 4
}
