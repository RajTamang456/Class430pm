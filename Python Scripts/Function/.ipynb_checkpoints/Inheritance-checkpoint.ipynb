{
 "cells": [
  {
   "cell_type": "code",
   "execution_count": 10,
   "metadata": {},
   "outputs": [
    {
     "name": "stdout",
     "output_type": "stream",
     "text": [
      "raj ktm\n"
     ]
    }
   ],
   "source": [
    "class info:\n",
    "    def __init__(self,name,address):\n",
    "        self.name = name\n",
    "        self.address = address\n",
    "class Hr(info):\n",
    "    def hr(self):\n",
    "        print(self.name,self.address)\n",
    "obj = Hr(\"raj\",\"ktm\")\n",
    "obj.hr()"
   ]
  },
  {
   "cell_type": "code",
   "execution_count": 6,
   "metadata": {},
   "outputs": [
    {
     "name": "stdout",
     "output_type": "stream",
     "text": [
      "Enter name = raj\n",
      "Enter address = lalitpur\n",
      "raj lalitpur\n"
     ]
    }
   ],
   "source": [
    "class info:\n",
    "    def __init__(self):\n",
    "        self.name = input(\"Enter name = \")\n",
    "        self.address = input(\"Enter address = \")\n",
    "class Hr(info):\n",
    "    def hr(self):\n",
    "        print(self.name,self.address)\n",
    "obj = Hr()\n",
    "obj.hr()"
   ]
  },
  {
   "cell_type": "code",
   "execution_count": 9,
   "metadata": {},
   "outputs": [
    {
     "name": "stdout",
     "output_type": "stream",
     "text": [
      "This is class A\n",
      "This is class B\n",
      "This is class C\n"
     ]
    }
   ],
   "source": [
    "class A:\n",
    "    print(\"This is class A\")\n",
    "class B(A):\n",
    "    print(\"This is class B\")\n",
    "    \n",
    "class C(B):\n",
    "    print(\"This is class C\")\n",
    "    \n",
    "c = C()"
   ]
  },
  {
   "cell_type": "code",
   "execution_count": 7,
   "metadata": {},
   "outputs": [
    {
     "name": "stdout",
     "output_type": "stream",
     "text": [
      "Enter name = raj\n",
      "Enter address = lpt\n",
      "This is office class raj\n"
     ]
    }
   ],
   "source": [
    "class info:\n",
    "    def __init__(self):\n",
    "        self.name = input(\"Enter name = \")\n",
    "        self.address = input(\"Enter address = \")\n",
    "class Hr(info):\n",
    "    def hr(self):\n",
    "        print(self.name,self.address)\n",
    "class Office(Hr):\n",
    "    def office(self):\n",
    "        print(\"This is office class\",self.name)\n",
    "obj = Office()\n",
    "obj.office()"
   ]
  },
  {
   "cell_type": "code",
   "execution_count": 25,
   "metadata": {},
   "outputs": [
    {
     "name": "stdout",
     "output_type": "stream",
     "text": [
      "This is office class raj\n"
     ]
    }
   ],
   "source": [
    "class Info:\n",
    "    def __init__(self,address):\n",
    "        self.address = address\n",
    "class Hr(info):\n",
    "    def __init__(self,name,address):\n",
    "        self.name = name\n",
    "        Info.__init__(self,address)\n",
    "\n",
    "    def hr(self):\n",
    "        print(self.name,self.address)\n",
    "class Office(Hr):\n",
    "    def office(self):\n",
    "        print(\"This is office class\",self.name)\n",
    "obj = Office(\"raj\",\"ktm\")\n",
    "obj.office()"
   ]
  },
  {
   "cell_type": "code",
   "execution_count": 24,
   "metadata": {},
   "outputs": [
    {
     "name": "stdout",
     "output_type": "stream",
     "text": [
      "1\n",
      "raj ktm\n"
     ]
    }
   ],
   "source": [
    "class Info:\n",
    "    def __init__(self,address):\n",
    "        self.address = address\n",
    "class Hr(info):\n",
    "    def __init__(self,name,address):\n",
    "        self.name = name\n",
    "        Info.__init__(self,address)\n",
    "    def hr(self):\n",
    "        print(self.name,self.address)\n",
    "class Office(Hr):\n",
    "    def __init__(self,id,name,address):\n",
    "        Hr.__init__(self,name,address)\n",
    "        self.id = id\n",
    "    def office(self):\n",
    "        print(self.id)\n",
    "obj = Office(1,\"raj\",\"ktm\")\n",
    "obj.office()\n",
    "obj.hr()"
   ]
  },
  {
   "cell_type": "code",
   "execution_count": 26,
   "metadata": {},
   "outputs": [],
   "source": [
    "class A:\n",
    "    pass\n",
    "class B:\n",
    "    pass\n",
    "class C(A,B):\n",
    "    pass\n",
    "c = C()"
   ]
  },
  {
   "cell_type": "code",
   "execution_count": 27,
   "metadata": {},
   "outputs": [
    {
     "name": "stdout",
     "output_type": "stream",
     "text": [
      "raj ktm\n"
     ]
    }
   ],
   "source": [
    "class Info:\n",
    "    def __init__(self,address):\n",
    "        self.address = address\n",
    "class Hr(info):\n",
    "    def __init__(self,name):\n",
    "        self.name = name\n",
    "class Office(Hr):\n",
    "    def __init__(self,name,address):\n",
    "        Hr.__init__(self,name)\n",
    "        Info.__init__(self,address)\n",
    "    def office(self):\n",
    "        print(self.name,self.address)\n",
    "obj = Office(\"raj\",\"ktm\")\n",
    "obj.office()"
   ]
  },
  {
   "cell_type": "code",
   "execution_count": 29,
   "metadata": {},
   "outputs": [
    {
     "name": "stdout",
     "output_type": "stream",
     "text": [
      "Enter name = raj\n",
      "Enter address = lalitpur\n",
      "raj lalitpur\n"
     ]
    }
   ],
   "source": [
    "class Info:\n",
    "    def __init__(self):\n",
    "        self.address = input(\"Enter address = \")\n",
    "class Hr(info):\n",
    "    def __init__(self):\n",
    "        self.name = input(\"Enter name = \")\n",
    "class Office(Hr):\n",
    "    def __init__(self):\n",
    "        Hr.__init__(self)\n",
    "        Info.__init__(self)\n",
    "    def office(self):\n",
    "        print(self.name,self.address)\n",
    "obj = Office()\n",
    "obj.office()"
   ]
  },
  {
   "cell_type": "code",
   "execution_count": 1,
   "metadata": {},
   "outputs": [
    {
     "name": "stdout",
     "output_type": "stream",
     "text": [
      "raj\n",
      "23\n"
     ]
    }
   ],
   "source": [
    "#pubic attributes\n",
    "class Info:\n",
    "    def __init__(self,name,age):\n",
    "        self.name = name\n",
    "        self.age = age\n",
    "obj = Info(\"raj\",23)\n",
    "print(obj.name)\n",
    "print(obj.age)"
   ]
  },
  {
   "cell_type": "code",
   "execution_count": 2,
   "metadata": {},
   "outputs": [
    {
     "name": "stdout",
     "output_type": "stream",
     "text": [
      "raj\n",
      "23\n"
     ]
    }
   ],
   "source": [
    "#protected attributes\n",
    "class Info:\n",
    "    def __init__(self,name,age):\n",
    "        self._name = name\n",
    "        self._age = age\n",
    "obj = Info(\"raj\",23)\n",
    "print(obj._name)\n",
    "print(obj._age)"
   ]
  },
  {
   "cell_type": "code",
   "execution_count": 4,
   "metadata": {},
   "outputs": [
    {
     "name": "stdout",
     "output_type": "stream",
     "text": [
      "raj\n",
      "23\n"
     ]
    }
   ],
   "source": [
    "# Private attributes\n",
    "class Info:\n",
    "    def __init__(self,name,age):\n",
    "        self.__name = name\n",
    "        self.__age = age\n",
    "obj = Info(\"raj\",23)\n",
    "print(obj._Info__name)\n",
    "print(obj._Info__age)"
   ]
  },
  {
   "cell_type": "code",
   "execution_count": 7,
   "metadata": {},
   "outputs": [
    {
     "name": "stdout",
     "output_type": "stream",
     "text": [
      "Enter name = raj\n",
      "Enter address = ktm\n",
      "Enter age = 25\n",
      "raj 25\n"
     ]
    }
   ],
   "source": [
    "class Info:\n",
    "    def __init__(self):\n",
    "        self.__address = input(\"Enter address = \")\n",
    "        self._age = int(input(\"Enter age = \"))\n",
    "class Hr(Info):\n",
    "    def __init__(self):\n",
    "        self.name = input(\"Enter name = \")\n",
    "class Office(Hr):\n",
    "    def __init__(self):\n",
    "        Hr.__init__(self)\n",
    "        Info.__init__(self)\n",
    "    def office(self):\n",
    "        print(self.name,self._age)\n",
    "obj = Office()\n",
    "obj.office()"
   ]
  },
  {
   "cell_type": "code",
   "execution_count": 8,
   "metadata": {},
   "outputs": [
    {
     "name": "stdout",
     "output_type": "stream",
     "text": [
      "Enter name = raj\n",
      "Enter address = ktm\n",
      "Enter age = 24\n",
      "raj 24 ktm\n"
     ]
    }
   ],
   "source": [
    "class Info:\n",
    "    def __init__(self):\n",
    "        self.__address = input(\"Enter address = \")\n",
    "        self._age = int(input(\"Enter age = \"))\n",
    "class Hr:\n",
    "    def __init__(self):\n",
    "        self.name = input(\"Enter name = \")\n",
    "class Office(Hr,Info):\n",
    "    def __init__(self):\n",
    "        Hr.__init__(self)\n",
    "        Info.__init__(self)\n",
    "    def office(self):\n",
    "        print(self.name,self._age,self._Info__address)\n",
    "obj = Office()\n",
    "obj.office()"
   ]
  },
  {
   "cell_type": "code",
   "execution_count": 11,
   "metadata": {},
   "outputs": [
    {
     "name": "stdout",
     "output_type": "stream",
     "text": [
      "Enter name = raj\n",
      "Enter address = ktm\n",
      "Enter age = 26\n",
      "Hello I am from ktm. I am 26\n"
     ]
    }
   ],
   "source": [
    "class Info:\n",
    "    def __init__(self):\n",
    "        self.__address = input(\"Enter address = \")\n",
    "        self._age = int(input(\"Enter age = \"))\n",
    "    def info(self):\n",
    "        return f\"Hello I am from {self.__address}. I am {self._age}\"\n",
    "class Hr:\n",
    "    def __init__(self):\n",
    "        self.name = input(\"Enter name = \")\n",
    "class Office(Hr,Info):\n",
    "    def __init__(self):\n",
    "        Hr.__init__(self)\n",
    "        Info.__init__(self)\n",
    "    def office(self):\n",
    "        print(super().info())\n",
    "obj = Office()\n",
    "obj.office()"
   ]
  },
  {
   "cell_type": "code",
   "execution_count": 12,
   "metadata": {},
   "outputs": [],
   "source": [
    "# truediv"
   ]
  },
  {
   "cell_type": "code",
   "execution_count": null,
   "metadata": {},
   "outputs": [],
   "source": [
    "#Decortor\n",
    "def outer function(fun):\n",
    "    \n",
    "    def inner function():\n",
    "        x = fun\n",
    "    return inner function()\n",
    "\n",
    "@outer function\n",
    "def hello():\n",
    "    print(\"Hello world\")"
   ]
  }
 ],
 "metadata": {
  "kernelspec": {
   "display_name": "Python 3",
   "language": "python",
   "name": "python3"
  },
  "language_info": {
   "codemirror_mode": {
    "name": "ipython",
    "version": 3
   },
   "file_extension": ".py",
   "mimetype": "text/x-python",
   "name": "python",
   "nbconvert_exporter": "python",
   "pygments_lexer": "ipython3",
   "version": "3.8.5"
  }
 },
 "nbformat": 4,
 "nbformat_minor": 4
}
