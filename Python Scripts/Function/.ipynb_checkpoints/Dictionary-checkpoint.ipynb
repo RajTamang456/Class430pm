{
 "cells": [
  {
   "cell_type": "code",
   "execution_count": 1,
   "metadata": {},
   "outputs": [],
   "source": [
    "a = {}\n",
    "#b = {<key>:<value>,<key>:<value>}\n",
    "#indexing\n",
    "#ordered\n",
    "#duplicate value\n",
    "#mutable"
   ]
  },
  {
   "cell_type": "code",
   "execution_count": 6,
   "metadata": {},
   "outputs": [
    {
     "name": "stdout",
     "output_type": "stream",
     "text": [
      "Apple\n",
      "Ball\n",
      "2\n"
     ]
    }
   ],
   "source": [
    "a = {\"A\":\"Apple\",\"B\":\"Ball\"}\n",
    "print(a[\"A\"])\n",
    "print(a[\"B\"])\n",
    "print(len(a))"
   ]
  },
  {
   "cell_type": "code",
   "execution_count": 8,
   "metadata": {},
   "outputs": [
    {
     "name": "stdout",
     "output_type": "stream",
     "text": [
      "{'A': 'Apple', 'B': 'Ball'}\n"
     ]
    }
   ],
   "source": [
    "a = {\"A\":\"Apple\",\"B\":\"Ball\"}\n",
    "print(a)"
   ]
  },
  {
   "cell_type": "code",
   "execution_count": 9,
   "metadata": {},
   "outputs": [
    {
     "name": "stdout",
     "output_type": "stream",
     "text": [
      "{'A': 'Apple', 'B': 'Ball', 'a': 'Apple'}\n"
     ]
    }
   ],
   "source": [
    "a = {\"A\":\"Apple\",\"B\":\"Ball\",\"a\":\"Apple\"}\n",
    "print(a)"
   ]
  },
  {
   "cell_type": "code",
   "execution_count": 10,
   "metadata": {},
   "outputs": [
    {
     "name": "stdout",
     "output_type": "stream",
     "text": [
      "{'A': 'Apple', 'B': 'Ball'}\n"
     ]
    }
   ],
   "source": [
    "a = {}\n",
    "a[\"A\"] = \"Apple\"\n",
    "a[\"B\"] = \"Ball\"\n",
    "print(a)"
   ]
  },
  {
   "cell_type": "code",
   "execution_count": 11,
   "metadata": {},
   "outputs": [
    {
     "name": "stdout",
     "output_type": "stream",
     "text": [
      "{'Ram': 9863653307, 'shyam': 9841703635}\n"
     ]
    }
   ],
   "source": [
    "a = {}\n",
    "a[\"Ram\"]=9863653307\n",
    "a[\"shyam\"]=9841703635\n",
    "print(a)"
   ]
  },
  {
   "cell_type": "code",
   "execution_count": 1,
   "metadata": {},
   "outputs": [
    {
     "name": "stdout",
     "output_type": "stream",
     "text": [
      "Enter n = 2\n",
      "Enter name = raj\n",
      "Enter phone = 9863653307\n",
      "Enter name = sam\n",
      "Enter phone = 9841703635\n",
      "{9863653307: 'raj', 9841703635: 'sam'}\n"
     ]
    }
   ],
   "source": [
    "data = {}\n",
    "n = int(input(\"Enter n = \"))\n",
    "for i in range(n):\n",
    "        name = input(\"Enter name = \")\n",
    "        phone = int(input(\"Enter phone = \"))\n",
    "        data[phone]=name\n",
    "print(data)"
   ]
  },
  {
   "cell_type": "code",
   "execution_count": 2,
   "metadata": {},
   "outputs": [
    {
     "name": "stdout",
     "output_type": "stream",
     "text": [
      "9863653307\n",
      "9841703635\n"
     ]
    }
   ],
   "source": [
    "for i in data:\n",
    "    print(i)"
   ]
  },
  {
   "cell_type": "code",
   "execution_count": 3,
   "metadata": {},
   "outputs": [
    {
     "name": "stdout",
     "output_type": "stream",
     "text": [
      "raj\n",
      "sam\n"
     ]
    }
   ],
   "source": [
    "for i in data.values():\n",
    "    print(i)"
   ]
  },
  {
   "cell_type": "code",
   "execution_count": 5,
   "metadata": {},
   "outputs": [
    {
     "name": "stdout",
     "output_type": "stream",
     "text": [
      "(9863653307, 'raj')\n",
      "(9841703635, 'sam')\n"
     ]
    }
   ],
   "source": [
    "for i in data.items():\n",
    "    print(i)"
   ]
  },
  {
   "cell_type": "code",
   "execution_count": 7,
   "metadata": {},
   "outputs": [
    {
     "name": "stdout",
     "output_type": "stream",
     "text": [
      "Enter name = raj\n",
      "(9863653307, 'raj')\n",
      "9863653307\n"
     ]
    }
   ],
   "source": [
    "name = input(\"Enter name = \")\n",
    "for i in data.items():\n",
    "    if name in i:\n",
    "        print(i)\n",
    "        print(i[0])"
   ]
  },
  {
   "cell_type": "code",
   "execution_count": 9,
   "metadata": {},
   "outputs": [
    {
     "name": "stdout",
     "output_type": "stream",
     "text": [
      "{9863653307: 'raj'}\n"
     ]
    }
   ],
   "source": [
    "del data[9841703635]\n",
    "print(data)"
   ]
  },
  {
   "cell_type": "code",
   "execution_count": 11,
   "metadata": {},
   "outputs": [
    {
     "name": "stdout",
     "output_type": "stream",
     "text": [
      "{'sam': 67}\n"
     ]
    }
   ],
   "source": [
    "data = {\"raj\":36,\"sam\":67}\n",
    "data.pop(\"raj\")\n",
    "print(data)"
   ]
  },
  {
   "cell_type": "code",
   "execution_count": 15,
   "metadata": {},
   "outputs": [
    {
     "name": "stdout",
     "output_type": "stream",
     "text": [
      "Enter = 9841703635\n",
      "['Sam']\n",
      "{'Ram': 9863653307}\n"
     ]
    }
   ],
   "source": [
    "index = []\n",
    "data = {'Ram':9863653307,'Sam':9841703635}\n",
    "phone = int(input(\"Enter = \"))\n",
    "for i in data.items():\n",
    "    if phone in i:\n",
    "        index.append(i[0])\n",
    "print(index)\n",
    "key = index[0]\n",
    "del data[key]\n",
    "print(data)"
   ]
  },
  {
   "cell_type": "code",
   "execution_count": 16,
   "metadata": {},
   "outputs": [
    {
     "data": {
      "text/plain": [
       "9865656456"
      ]
     },
     "execution_count": 16,
     "metadata": {},
     "output_type": "execute_result"
    }
   ],
   "source": [
    "a = {('ram','sam'):9865656456}\n",
    "a[('ram','sam')]"
   ]
  },
  {
   "cell_type": "code",
   "execution_count": 17,
   "metadata": {},
   "outputs": [],
   "source": [
    "#list inside dictionary\n",
    "#tuple inside dictionary\n",
    "#dic inside dictinary"
   ]
  },
  {
   "cell_type": "code",
   "execution_count": 18,
   "metadata": {},
   "outputs": [
    {
     "name": "stdout",
     "output_type": "stream",
     "text": [
      "{'A': ['apple', 'ant'], 'B': ['ball', 'bat']}\n"
     ]
    }
   ],
   "source": [
    "a = {\"A\":['apple','ant'],\"B\":['ball','bat']}\n",
    "print(a)"
   ]
  },
  {
   "cell_type": "code",
   "execution_count": 19,
   "metadata": {},
   "outputs": [
    {
     "name": "stdout",
     "output_type": "stream",
     "text": [
      "('A', ['apple', 'ant'])\n",
      "('B', ['ball', 'bat'])\n"
     ]
    }
   ],
   "source": [
    "for i in a.items():\n",
    "    print(i)"
   ]
  },
  {
   "cell_type": "code",
   "execution_count": 20,
   "metadata": {},
   "outputs": [
    {
     "name": "stdout",
     "output_type": "stream",
     "text": [
      "{'A': ['apple', 'ant'], 'B': ['ball', 'bat'], 'c': ['cat', 'cow']}\n"
     ]
    }
   ],
   "source": [
    "a = {\"A\":['apple','ant'],\"B\":['ball','bat']}\n",
    "a[\"c\"]=['cat','cow']\n",
    "print(a)"
   ]
  },
  {
   "cell_type": "code",
   "execution_count": 25,
   "metadata": {},
   "outputs": [
    {
     "name": "stdout",
     "output_type": "stream",
     "text": [
      "Enter n = 2\n",
      "Enter name = ram\n",
      "Enter ntc no = 98637444\n",
      "Enter ncell no = 8478457457\n",
      "Enter name = sam\n",
      "Enter ntc no = 43764376\n",
      "Enter ncell no = 34764367342\n",
      "{'ram': [98637444, 8478457457], 'sam': [43764376, 34764367342]}\n"
     ]
    }
   ],
   "source": [
    "data = {}\n",
    "n = int(input(\"Enter n = \"))\n",
    "for i in range(n):\n",
    "    name = input(\"Enter name = \")\n",
    "    ntc = int(input(\"Enter ntc no = \"))\n",
    "    ncell = int(input(\"Enter ncell no = \"))\n",
    "    data[name] = [ntc,ncell]\n",
    "print(data)"
   ]
  },
  {
   "cell_type": "code",
   "execution_count": 26,
   "metadata": {},
   "outputs": [
    {
     "name": "stdout",
     "output_type": "stream",
     "text": [
      "{'ram': [98637444, 9863653307], 'sam': [43764376, 34764367342]}\n"
     ]
    }
   ],
   "source": [
    "data['ram'][1]=9863653307\n",
    "print(data)\n"
   ]
  },
  {
   "cell_type": "code",
   "execution_count": null,
   "metadata": {},
   "outputs": [],
   "source": []
  },
  {
   "cell_type": "code",
   "execution_count": 27,
   "metadata": {},
   "outputs": [
    {
     "name": "stdout",
     "output_type": "stream",
     "text": [
      "Enter phone = 9863653307\n",
      "('ram', [98637444, 9863653307])\n"
     ]
    }
   ],
   "source": [
    "data = {'ram': [98637444, 9863653307], 'sam': [43764376, 34764367342]}\n",
    "phone = int(input(\"Enter phone = \"))\n",
    "for i in data.items():\n",
    "    if phone in i[1]:\n",
    "        print(i)"
   ]
  },
  {
   "cell_type": "code",
   "execution_count": 1,
   "metadata": {},
   "outputs": [
    {
     "name": "stdout",
     "output_type": "stream",
     "text": [
      "{'Ram': {'ntc': 9863653307, 'ncell': 9810252525}, 'Sam': {'ntc': 9841525252, 'ncell': 9808181818}, 'Hari': {'ntc': 98436363636, 'ncell': 98380202020}}\n"
     ]
    }
   ],
   "source": [
    "#dicts inside discts\n",
    "a = {\"Ram\":{\"ntc\":9863653307,\"ncell\":9810252525},\n",
    "     \"Sam\":{\"ntc\":9841525252,\"ncell\":9808181818}}\n",
    "a[\"Hari\"]={\"ntc\":98436363636,\"ncell\":98380202020}\n",
    "print(a)"
   ]
  },
  {
   "cell_type": "code",
   "execution_count": 3,
   "metadata": {},
   "outputs": [
    {
     "name": "stdout",
     "output_type": "stream",
     "text": [
      "{'Ram': {'ntc': 9863653307, 'ncell': 9810252525}, 'Sam': {'ntc': 9841525252, 'ncell': 9808181818}, 'Hari': {'ntc': 98436363636, 'ncell': 98380202020, 'land': 5201033}}\n"
     ]
    }
   ],
   "source": [
    "a[\"Hari\"][\"land\"]=5201033\n",
    "print(a)"
   ]
  },
  {
   "cell_type": "code",
   "execution_count": null,
   "metadata": {},
   "outputs": [],
   "source": [
    "#dicts inside list\n",
    "a = [{\"name\":\"raj\",\"ntc\":9841525252,\"ncell\":9808181818},\n",
    "    {\"name\":\"sam\",\"ntc\":9863653307,\"ncell\":9810252525},\n",
    "    {\"name\":\"hari\",\"ntc\":98436363636,\"ncell\":98380202020},\n",
    "      ]\n"
   ]
  },
  {
   "cell_type": "code",
   "execution_count": 4,
   "metadata": {},
   "outputs": [
    {
     "name": "stdout",
     "output_type": "stream",
     "text": [
      "Enter n = 2\n",
      "Enter name = raj\n",
      "Enter ntc = 9863653307\n",
      "Enter ncell = 9810181818\n",
      "Enter name = sam\n",
      "Enter ntc = 9841756464\n",
      "Enter ncell = 9808161514\n",
      "[{'Name': 'raj', 'Ntc': 9863653307, 'Ncell': 9810181818}, {'Name': 'sam', 'Ntc': 9841756464, 'Ncell': 9808161514}]\n"
     ]
    }
   ],
   "source": [
    "a = []\n",
    "n = int(input(\"Enter n = \"))\n",
    "for i in range(n):\n",
    "    name = input(\"Enter name = \")\n",
    "    ntc = int(input(\"Enter ntc = \"))\n",
    "    ncell = int(input(\"Enter ncell = \"))\n",
    "    data = {'Name':name,'Ntc':ntc,\"Ncell\":ncell}\n",
    "    a.append(data)\n",
    "print(a)"
   ]
  },
  {
   "cell_type": "code",
   "execution_count": 6,
   "metadata": {},
   "outputs": [
    {
     "name": "stdout",
     "output_type": "stream",
     "text": [
      "raj\n",
      "9863653307\n",
      "9810181818\n",
      "sam\n",
      "9841756464\n",
      "9808161514\n"
     ]
    }
   ],
   "source": [
    "for i in a:\n",
    "    print(i[\"Name\"])\n",
    "    print(i[\"Ntc\"])\n",
    "    print(i[\"Ncell\"])"
   ]
  },
  {
   "cell_type": "code",
   "execution_count": 8,
   "metadata": {},
   "outputs": [
    {
     "name": "stdout",
     "output_type": "stream",
     "text": [
      "[{'Name': 'Radhe', 'Ntc': 9863653307, 'Ncell': 9810181818}, {'Name': 'sam', 'Ntc': 9841756464, 'Ncell': 9808161514}]\n"
     ]
    }
   ],
   "source": [
    "a = [{'Name': 'raj', 'Ntc': 9863653307, 'Ncell': 9810181818}, {'Name': 'sam', 'Ntc': 9841756464, 'Ncell': 9808161514}]\n",
    "a[0][\"Name\"] = \"Radhe\"\n",
    "print(a)"
   ]
  },
  {
   "cell_type": "code",
   "execution_count": 2,
   "metadata": {},
   "outputs": [
    {
     "name": "stdout",
     "output_type": "stream",
     "text": [
      "Enter n = 2\n",
      "Enter name = raj\n",
      "Enter english mark = 78\n",
      "Enter nepali mark = 70\n",
      "Enter science mark = 90\n",
      "Enter math mark = 98\n",
      "Enter social mark = 78\n",
      "Enter english mark = 82\n",
      "Enter computer mark = 88\n",
      "Enter health mark = 85\n",
      "Enter name = sam\n",
      "Enter english mark = 86\n",
      "Enter nepali mark = 77\n",
      "Enter science mark = 92\n",
      "Enter math mark = 95\n",
      "Enter social mark = 88\n",
      "Enter english mark = 85\n",
      "Enter computer mark = 94\n",
      "Enter health mark = 86\n",
      "[{'Name': 'raj', 'English': 78, 'Nepali': 70, 'Science': 90, 'Math': 98, 'Social': 78, 'Account': 82, 'Computer': 88, 'Health': 85, 'Total': 669, 'Percentage': 83.625}, {'Name': 'sam', 'English': 86, 'Nepali': 77, 'Science': 92, 'Math': 95, 'Social': 88, 'Account': 85, 'Computer': 94, 'Health': 86, 'Total': 703, 'Percentage': 87.875}]\n",
      "[{'Name': 'raj', 'English': 78, 'Nepali': 70, 'Science': 90, 'Math': 98, 'Social': 78, 'Account': 82, 'Computer': 88, 'Health': 85, 'Total': 669, 'Percentage': 83.625}, {'Name': 'sam', 'English': 86, 'Nepali': 80, 'Science': 92, 'Math': 95, 'Social': 88, 'Account': 85, 'Computer': 94, 'Health': 86, 'Total': 706, 'Percentage': 88.25}]\n"
     ]
    }
   ],
   "source": [
    "#WAP to enter data of students (marks) and make a complete system\n",
    "a = []\n",
    "n = int(input(\"Enter n = \"))\n",
    "for i in range(n):\n",
    "    name = input(\"Enter name = \")\n",
    "    english = int(input(\"Enter english mark = \"))\n",
    "    nepali = int(input(\"Enter nepali mark = \"))\n",
    "    science = int(input(\"Enter science mark = \"))\n",
    "    math = int(input(\"Enter math mark = \"))\n",
    "    social = int(input(\"Enter social mark = \"))\n",
    "    account = int(input(\"Enter english mark = \"))\n",
    "    computer = int(input(\"Enter computer mark = \"))\n",
    "    health = int(input(\"Enter health mark = \"))\n",
    "    total = english+nepali+science+math+social+account+computer+health\n",
    "    per = total/8\n",
    "    data = {\"Name\":name,\"English\":english,\"Nepali\":nepali,\"Science\":science,\"Math\":math,\"Social\":social,\"Account\":account,\"Computer\":computer,\n",
    "           \"Health\":health,\"Total\":total,\"Percentage\":per}\n",
    "    a.append(data)\n",
    "print(a)\n",
    "a[1][\"Nepali\"]=80\n",
    "N =a[1][\"Nepali\"]\n",
    "t = english+N+science+math+social+account+computer+health\n",
    "a[1][\"Total\"]=t\n",
    "p = t/8\n",
    "a[1][\"Percentage\"]=p\n",
    "print(a)\n",
    "\n",
    "        \n",
    "        \n",
    "\n",
    "\n"
   ]
  },
  {
   "cell_type": "code",
   "execution_count": 3,
   "metadata": {},
   "outputs": [
    {
     "name": "stdout",
     "output_type": "stream",
     "text": [
      "[{'Name': 'raj', 'English': 78, 'Nepali': 70, 'Science': 95, 'Math': 98, 'Social': 78, 'Account': 82, 'Computer': 88, 'Health': 85, 'Total': 669, 'Percentage': 88.25}, {'Name': 'sam', 'English': 86, 'Nepali': 80, 'Science': 92, 'Math': 95, 'Social': 88, 'Account': 85, 'Computer': 94, 'Health': 86, 'Total': 706, 'Percentage': 88.25}]\n"
     ]
    }
   ],
   "source": [
    "a[0]['Science']=95\n",
    "s = a[0]['Science']\n",
    "T = english+nepali+s+math+social+account+computer+health\n",
    "per = T/8\n",
    "a[0]['Percentage']=per\n",
    "print(a)\n"
   ]
  },
  {
   "cell_type": "code",
   "execution_count": 4,
   "metadata": {},
   "outputs": [
    {
     "name": "stdout",
     "output_type": "stream",
     "text": [
      "Enter name = sam\n",
      "1\n",
      "[1]\n"
     ]
    }
   ],
   "source": [
    "index = []\n",
    "name = input(\"Enter name = \")\n",
    "for i in range(len(a)):\n",
    "    if a[i][\"Name\"]==name:\n",
    "        print(i)\n",
    "        index.append(i)\n",
    "print(index)"
   ]
  },
  {
   "cell_type": "code",
   "execution_count": null,
   "metadata": {},
   "outputs": [],
   "source": []
  }
 ],
 "metadata": {
  "kernelspec": {
   "display_name": "Python 3",
   "language": "python",
   "name": "python3"
  },
  "language_info": {
   "codemirror_mode": {
    "name": "ipython",
    "version": 3
   },
   "file_extension": ".py",
   "mimetype": "text/x-python",
   "name": "python",
   "nbconvert_exporter": "python",
   "pygments_lexer": "ipython3",
   "version": "3.8.5"
  }
 },
 "nbformat": 4,
 "nbformat_minor": 4
}
