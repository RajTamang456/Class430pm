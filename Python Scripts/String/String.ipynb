{
 "cells": [
  {
   "cell_type": "code",
   "execution_count": 1,
   "metadata": {},
   "outputs": [
    {
     "name": "stdout",
     "output_type": "stream",
     "text": [
      "<class 'str'> <class 'str'>\n"
     ]
    }
   ],
   "source": [
    "a = \"Hello\"\n",
    "b = 'hello'\n",
    "print(type(a),type(b))"
   ]
  },
  {
   "cell_type": "code",
   "execution_count": 2,
   "metadata": {},
   "outputs": [
    {
     "name": "stdout",
     "output_type": "stream",
     "text": [
      "Hellohello\n"
     ]
    }
   ],
   "source": [
    "a = \"Hello\"\n",
    "b = 'hello'\n",
    "print(a+b)"
   ]
  },
  {
   "cell_type": "code",
   "execution_count": 3,
   "metadata": {},
   "outputs": [
    {
     "name": "stdout",
     "output_type": "stream",
     "text": [
      "Enter name = 10\n",
      "<class 'str'>\n",
      "10\n"
     ]
    }
   ],
   "source": [
    "a = input(\"Enter name = \")\n",
    "print(type(a))\n",
    "print(a)"
   ]
  },
  {
   "cell_type": "code",
   "execution_count": 4,
   "metadata": {},
   "outputs": [
    {
     "name": "stdout",
     "output_type": "stream",
     "text": [
      "Hello\n"
     ]
    }
   ],
   "source": [
    "a = \"Hello World\"\n",
    "print(a[0:5])\n",
    "    \n"
   ]
  },
  {
   "cell_type": "code",
   "execution_count": 5,
   "metadata": {},
   "outputs": [
    {
     "name": "stdout",
     "output_type": "stream",
     "text": [
      "nohtyP olleH\n"
     ]
    }
   ],
   "source": [
    "a = \"Hello Python\"\n",
    "n = len(a)\n",
    "print(a[n-1::-1])"
   ]
  },
  {
   "cell_type": "code",
   "execution_count": 8,
   "metadata": {},
   "outputs": [
    {
     "name": "stdout",
     "output_type": "stream",
     "text": [
      "Enter name = raj\n",
      "Enter age = 27\n",
      "Enter add = ktm\n",
      "Hello I am raj. I am from ktm. I am 27\n"
     ]
    }
   ],
   "source": [
    "name = input(\"Enter name = \")\n",
    "age = int(input(\"Enter age = \"))\n",
    "add = input(\"Enter add = \")\n",
    "info = f\"Hello I am {name}. I am from {add}. I am {age}\"\n",
    "print(info)\n",
    "\n"
   ]
  },
  {
   "cell_type": "code",
   "execution_count": 10,
   "metadata": {},
   "outputs": [
    {
     "name": "stdout",
     "output_type": "stream",
     "text": [
      "Enter n = 2\n",
      "Enter name = raj\n",
      "Enter age = 27\n",
      "Enter add = ktm\n",
      "Enter name = hari\n",
      "Enter age = 25\n",
      "Enter add = pokhara\n",
      "Hello I am raj. I am from ktm. I am 27\n",
      "Hello I am hari. I am from pokhara. I am 25\n",
      "\n"
     ]
    }
   ],
   "source": [
    "data = \"\"\n",
    "n = int(input(\"Enter n = \"))\n",
    "for i in range(n):\n",
    "    name = input(\"Enter name = \")\n",
    "    age = int(input(\"Enter age = \"))\n",
    "    add = input(\"Enter add = \")\n",
    "    info = f\"Hello I am {name}. I am from {add}. I am {age}\\n\"\n",
    "    data+=info\n",
    "print(data)\n",
    "    "
   ]
  },
  {
   "cell_type": "code",
   "execution_count": 11,
   "metadata": {},
   "outputs": [
    {
     "name": "stdout",
     "output_type": "stream",
     "text": [
      "yes\n"
     ]
    }
   ],
   "source": [
    "a = \"ram aadi hari nita shyam anil\"\n",
    "if \"ram\" in a:\n",
    "    print('yes')\n",
    "else:\n",
    "    print('no')"
   ]
  },
  {
   "cell_type": "code",
   "execution_count": 12,
   "metadata": {},
   "outputs": [
    {
     "name": "stdout",
     "output_type": "stream",
     "text": [
      "Enter name = ram\n",
      "yes ram is present\n"
     ]
    }
   ],
   "source": [
    "a = \"ram aadi hari nita shyam anil\"\n",
    "name = input(\"Enter name = \")\n",
    "if name in a:\n",
    "    print(f'yes {name} is present')\n",
    "else:\n",
    "    print('no')"
   ]
  },
  {
   "cell_type": "code",
   "execution_count": 14,
   "metadata": {},
   "outputs": [
    {
     "name": "stdout",
     "output_type": "stream",
     "text": [
      "Enter name = ram\n",
      "yes ram is 1 ram\n"
     ]
    }
   ],
   "source": [
    "a = \"ram aadi hari nita shyam anil\"\n",
    "name = input(\"Enter name = \")\n",
    "if name in a:\n",
    "    c = a.count(name)\n",
    "    print(f'yes {name} is {c} ram')\n",
    "else:\n",
    "    print('no')"
   ]
  },
  {
   "cell_type": "code",
   "execution_count": 10,
   "metadata": {},
   "outputs": [
    {
     "name": "stdout",
     "output_type": "stream",
     "text": [
      "Enter name = ram\n",
      "yes ram is 2\n"
     ]
    }
   ],
   "source": [
    "a = \"ram Ram aadi hari nita shyam anil\"\n",
    "b = a.lower()\n",
    "name = input(\"Enter name = \")\n",
    "names = name.lower()\n",
    "c = b.count(names)\n",
    "if name in a:\n",
    "    print(f'yes {names} is {c}')\n",
    "else:\n",
    "    print('no')"
   ]
  },
  {
   "cell_type": "code",
   "execution_count": 16,
   "metadata": {},
   "outputs": [
    {
     "name": "stdout",
     "output_type": "stream",
     "text": [
      "RAM\n",
      "ram\n"
     ]
    }
   ],
   "source": [
    "a = \"Ram\"\n",
    "print(a.upper())\n",
    "print(a.lower())"
   ]
  },
  {
   "cell_type": "code",
   "execution_count": 19,
   "metadata": {},
   "outputs": [
    {
     "name": "stdout",
     "output_type": "stream",
     "text": [
      "Enter name = ram\n",
      "RAM\n"
     ]
    }
   ],
   "source": [
    "name = input(\"Enter name = \").upper()\n",
    "print(name)"
   ]
  },
  {
   "cell_type": "code",
   "execution_count": 21,
   "metadata": {},
   "outputs": [
    {
     "name": "stdout",
     "output_type": "stream",
     "text": [
      "Ram rama hari sita nita\n"
     ]
    }
   ],
   "source": [
    "#replace\n",
    "#remove\n",
    "a = \"Ram ram hari sita nita\"\n",
    "b = a.replace('ram','rama')\n",
    "print(b)"
   ]
  },
  {
   "cell_type": "code",
   "execution_count": 23,
   "metadata": {},
   "outputs": [
    {
     "name": "stdout",
     "output_type": "stream",
     "text": [
      "\n"
     ]
    }
   ],
   "source": [
    "a = \"Ram ram hari sita nita\"\n",
    "b = a[0:4]\n",
    "c = b[4:]\n",
    "print(c)"
   ]
  },
  {
   "cell_type": "code",
   "execution_count": 25,
   "metadata": {},
   "outputs": [
    {
     "name": "stdout",
     "output_type": "stream",
     "text": [
      "Ram  hari sita nita\n"
     ]
    }
   ],
   "source": [
    "a = \"Ram ram hari sita nita\"\n",
    "b = a.replace('ram',\"\")\n",
    "print(b)"
   ]
  },
  {
   "cell_type": "code",
   "execution_count": 27,
   "metadata": {},
   "outputs": [
    {
     "name": "stdout",
     "output_type": "stream",
     "text": [
      "['Ram', 'ram', 'hari', 'sita', 'nita']\n"
     ]
    }
   ],
   "source": [
    "a = \"Ram ram hari sita nita\"\n",
    "b = a.split()\n",
    "print(b)"
   ]
  },
  {
   "cell_type": "code",
   "execution_count": 30,
   "metadata": {},
   "outputs": [
    {
     "name": "stdout",
     "output_type": "stream",
     "text": [
      "Enter n = 2\n",
      "Enter name = raj\n",
      "Enter age = 23\n",
      "Enter add = kjym\n",
      "Enter name = ffdx\n",
      "Enter age = 45\n",
      "Enter add = gf\n",
      "0raj----kjym---23\n",
      "1ffdx----gf---45\n",
      "\n"
     ]
    }
   ],
   "source": [
    "data = \"\"\n",
    "n = int(input(\"Enter n = \"))\n",
    "for i in range(n):\n",
    "    name = input(\"Enter name = \")\n",
    "    age = int(input(\"Enter age = \"))\n",
    "    add = input(\"Enter add = \")\n",
    "    info = f\"{i}{name}----{add}---{age}\\n\"\n",
    "    data+=info\n",
    "print(data)\n",
    "    "
   ]
  },
  {
   "cell_type": "code",
   "execution_count": 1,
   "metadata": {},
   "outputs": [
    {
     "name": "stdout",
     "output_type": "stream",
     "text": [
      "Enter n = 2\n",
      "Enter name = raj\n",
      "Enter age = 23\n",
      "Enter add = ktm\n",
      "Enter name = sam\n",
      "Enter age = 24\n",
      "Enter add = pkr\n",
      "0 raj----ktm---23\n",
      "1 sam----pkr---24\n",
      "\n",
      "['0 raj----ktm---23', '1 sam----pkr---24', '']\n"
     ]
    },
    {
     "data": {
      "text/plain": [
       "'1 sam----pkr---24'"
      ]
     },
     "execution_count": 1,
     "metadata": {},
     "output_type": "execute_result"
    }
   ],
   "source": [
    "data = \"\"\n",
    "n = int(input(\"Enter n = \"))\n",
    "for i in range(n):\n",
    "    name = input(\"Enter name = \")\n",
    "    age = int(input(\"Enter age = \"))\n",
    "    add = input(\"Enter add = \")\n",
    "    info = f\"{i} {name}----{add}---{age}\\n\"\n",
    "    data+=info\n",
    "print(data)\n",
    "d = data.split('\\n')\n",
    "print(d)\n",
    "d[1]\n"
   ]
  },
  {
   "cell_type": "code",
   "execution_count": null,
   "metadata": {},
   "outputs": [],
   "source": []
  }
 ],
 "metadata": {
  "kernelspec": {
   "display_name": "Python 3",
   "language": "python",
   "name": "python3"
  },
  "language_info": {
   "codemirror_mode": {
    "name": "ipython",
    "version": 3
   },
   "file_extension": ".py",
   "mimetype": "text/x-python",
   "name": "python",
   "nbconvert_exporter": "python",
   "pygments_lexer": "ipython3",
   "version": "3.8.5"
  }
 },
 "nbformat": 4,
 "nbformat_minor": 4
}
